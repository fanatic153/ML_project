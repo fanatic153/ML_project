{
 "cells": [
  {
   "cell_type": "markdown",
   "metadata": {},
   "source": [
    "# ML project: Which factor is responsible for GDP growth? \n",
    "# What effects GDP?\n",
    "\n",
    "\n",
    "We got the dataset from the world bank, WDIdata.csv and GDP growth.\n",
    "\n",
    "(World Development indicators:\n",
    "https://data.worldbank.org/data-catalog/world-development-indicators; dowonlaod 'WDI (CSV)-ZIP' or url 'http://databank.worldbank.org/data/download/WDI_csv.zip')\n",
    "\n",
    "(GDP growth:\n",
    "https://data.worldbank.org/indicator/NY.GDP.MKTP.KD.ZG)\n",
    "\n",
    "\n",
    "And extract GDP in US from year 1961~2016 for this case study.\n",
    "\n",
    "First, load the data and handle missing data by filling in with the mean value of that factor.\n",
    "\n",
    "And processed the data with many methods.\n",
    "\n",
    "(linear regression, logistic regression, nonlinear optimization(gradient descent), SVM optimization)\n",
    "\n"
   ]
  },
  {
   "cell_type": "code",
   "execution_count": 1,
   "metadata": {
    "collapsed": true
   },
   "outputs": [],
   "source": [
    "import pandas as pd\n",
    "import numpy as np\n",
    "import matplotlib\n",
    "import matplotlib.pyplot as plt\n",
    "%matplotlib inline\n",
    "from sklearn import linear_model, preprocessing"
   ]
  },
  {
   "cell_type": "markdown",
   "metadata": {},
   "source": [
    "# Loading data\n",
    "\n",
    "\n",
    "\n",
    "-WDI data  : USA\n",
    "\n",
    "-GDP/GDP growth : extract USA GDP indicators\n"
   ]
  },
  {
   "cell_type": "code",
   "execution_count": 2,
   "metadata": {},
   "outputs": [
    {
     "name": "stdout",
     "output_type": "stream",
     "text": [
      "df.shape =  (409992, 61)\n",
      "df of USA .shape =  (1553, 61)\n"
     ]
    }
   ],
   "source": [
    "df = pd.read_csv('WDIData.csv',index_col=1)\n",
    "print('df.shape = ',df.shape)\n",
    "\n",
    "df = df.loc['USA']   # from 392911 ~ 394463\n",
    "print('df of USA .shape = ',df.shape)\n",
    "\n",
    "# print('df.columns j = ',df.columns) \n",
    "# print('df.index i = ',df.index)\n",
    "# df.columns.tolist()\n",
    "\n",
    "IndicatorName = np.asarray(df['Indicator Name'])\n",
    "# IndicatorName"
   ]
  },
  {
   "cell_type": "code",
   "execution_count": 3,
   "metadata": {
    "scrolled": true
   },
   "outputs": [
    {
     "name": "stdout",
     "output_type": "stream",
     "text": [
      "df2.shape =  (1553, 56)\n",
      "--> df2 =                1961  1962  1963  1964  1965  1966  1967  1968  1969  1970  \\\n",
      "Country Code                                                               \n",
      "USA            NaN   NaN   NaN   NaN   NaN   NaN   NaN   NaN   NaN   NaN   \n",
      "USA            NaN   NaN   NaN   NaN   NaN   NaN   NaN   NaN   NaN   NaN   \n",
      "USA            NaN   NaN   NaN   NaN   NaN   NaN   NaN   NaN   NaN   NaN   \n",
      "USA            NaN   NaN   NaN   NaN   NaN   NaN   NaN   NaN   NaN   NaN   \n",
      "USA            NaN   NaN   NaN   NaN   NaN   NaN   NaN   NaN   NaN   NaN   \n",
      "\n",
      "              ...    2007   2008   2009   2010   2011   2012   2013   2014  \\\n",
      "Country Code  ...                                                            \n",
      "USA           ...     NaN    NaN    NaN    NaN    NaN    NaN    NaN    NaN   \n",
      "USA           ...     NaN    NaN    NaN    NaN    NaN    NaN    NaN    NaN   \n",
      "USA           ...   100.0  100.0  100.0  100.0  100.0  100.0  100.0  100.0   \n",
      "USA           ...   100.0  100.0  100.0  100.0  100.0  100.0  100.0  100.0   \n",
      "USA           ...   100.0  100.0  100.0  100.0  100.0  100.0  100.0  100.0   \n",
      "\n",
      "              2015  2016  \n",
      "Country Code              \n",
      "USA            NaN   NaN  \n",
      "USA            NaN   NaN  \n",
      "USA            NaN   NaN  \n",
      "USA            NaN   NaN  \n",
      "USA            NaN   NaN  \n",
      "\n",
      "[5 rows x 56 columns]\n",
      " \n",
      "factors.shape =  (1553, 1)\n",
      "--> factors =                                                   Indicator Name\n",
      "Country Code                                                   \n",
      "USA           2005 PPP conversion factor, GDP (LCU per inter...\n",
      "USA           2005 PPP conversion factor, private consumptio...\n",
      "USA           Access to clean fuels and technologies for coo...\n",
      "USA                     Access to electricity (% of population)\n",
      "USA           Access to electricity, rural (% of rural popul...\n"
     ]
    }
   ],
   "source": [
    "# eliminate '1960' to make dim even~~~ = 56\n",
    "df2 = df[['1961','1962', '1963', '1964', '1965', '1966', '1967', '1968', '1969', '1970',\n",
    "          '1971', '1972', '1973', '1974', '1975', '1976', '1977', '1978', '1979','1980',\n",
    "          '1981', '1982', '1983', '1984', '1985', '1986', '1987', '1988','1989', '1990',\n",
    "          '1991', '1992', '1993', '1994', '1995', '1996', '1997','1998', '1999', '2000',\n",
    "          '2001', '2002', '2003', '2004', '2005', '2006','2007', '2008', '2009', '2010',\n",
    "          '2011', '2012', '2013', '2014', '2015','2016']]\n",
    "print('df2.shape = ',df2.shape)\n",
    "print('--> df2 = ',df2.head(5))\n",
    "\n",
    "factors = df[['Indicator Name']]\n",
    "print(' \\nfactors.shape = ',factors.shape)\n",
    "print('--> factors = ',factors.head(5))\n",
    "\n",
    "# y = AB + w = df2 * factors + w\n"
   ]
  },
  {
   "cell_type": "markdown",
   "metadata": {},
   "source": [
    "Process target y: GDPgrowth and GDP year 1961~2016.\n",
    "--"
   ]
  },
  {
   "cell_type": "code",
   "execution_count": 4,
   "metadata": {},
   "outputs": [
    {
     "name": "stdout",
     "output_type": "stream",
     "text": [
      "df.shape =  (2, 62)\n",
      "y.shape =  (56, 2)\n",
      "ygrowth, yGDP =  (56,) (56,)\n"
     ]
    }
   ],
   "source": [
    "GDPgrowth = pd.read_csv('US GDP growth.csv')\n",
    "print('df.shape = ',GDPgrowth.shape)\n",
    "\n",
    "y = (GDPgrowth.T)[5:-1]  # retreive from 1961, so that the nyear is even to split for training\n",
    "print('y.shape = ',y.shape)\n",
    "\n",
    "ygrowth = y[0]\n",
    "yGDP = y[1]\n",
    "print('ygrowth, yGDP = ', ygrowth.shape,yGDP.shape)\n",
    "# print('y = ',y)"
   ]
  },
  {
   "cell_type": "markdown",
   "metadata": {
    "collapsed": true
   },
   "source": [
    "# missing data manipulation\n",
    "replace NAN\n",
    "http://pandas.pydata.org/pandas-docs/stable/missing_data.html\n",
    "\n",
    "set X,y\n",
    "\n",
    "multi-linear regression"
   ]
  },
  {
   "cell_type": "markdown",
   "metadata": {},
   "source": [
    "deal with factors(indicators): X\n",
    "---"
   ]
  },
  {
   "cell_type": "code",
   "execution_count": 5,
   "metadata": {},
   "outputs": [
    {
     "name": "stdout",
     "output_type": "stream",
     "text": [
      "nyears =  56 , nfactors =  1553\n",
      "add.shape  (1553, 1) ; df3.shape =  (56, 1553)\n",
      "\n",
      "df1.shape =  (56, 1553) ; factors.shape =  (1553, 1)\n"
     ]
    },
    {
     "name": "stderr",
     "output_type": "stream",
     "text": [
      "C:\\Anaconda\\lib\\site-packages\\sklearn\\preprocessing\\data.py:160: UserWarning: Numerical issues were encountered when centering the data and might not be solved. Dataset may contain too large values. You may need to prescale your features.\n",
      "  warnings.warn(\"Numerical issues were encountered \"\n"
     ]
    }
   ],
   "source": [
    "####### manually sum over Indicator of each year #######\n",
    "df3 = np.asarray(df2)\n",
    "df3 = df3.T\n",
    "\n",
    "nyears, nfactors = df3.shape\n",
    "print('nyears = ', nyears,', nfactors = ',nfactors)\n",
    "\n",
    "add = np.zeros((nfactors,1))\n",
    "print('add.shape ',add.shape,'; df3.shape = ',df3.shape)\n",
    "\n",
    "for j in range(nfactors):  # compute the average of each indicator over the years\n",
    "    for i in range(nyears): # sum over columns (i^th indicator average over the years)\n",
    "        if np.isnan(df3[i,j]):\n",
    "            add[j] += 0\n",
    "        else:\n",
    "            add[j] += df3[i,j]        \n",
    "ave = add/nyears\n",
    "# print('add = ',add[:6],'\\nave = ' ,ave[:6])\n",
    "\n",
    "df1 = np.zeros((df3.shape))   # fill in nan with average value\n",
    "for j in range(nfactors):   \n",
    "    for i in range(nyears):\n",
    "        if np.isnan(df3[i,j]):\n",
    "            df1[i,j] = ave[j]\n",
    "print('\\ndf1.shape = ',df1.shape,'; factors.shape = ',factors.shape)\n",
    "\n",
    "df1 = preprocessing.scale(df1)\n",
    "# y1 = preprocessing.scale(y1)\n",
    "\n",
    "X = df1\n",
    " "
   ]
  },
  {
   "cell_type": "markdown",
   "metadata": {
    "collapsed": true
   },
   "source": [
    "# @Linear regression\n",
    "\n",
    "\n",
    "y = AB + w = df1 * factors + w\n",
    "\n",
    "\n",
    "y : usa GDP groth over time(year 2006~2016)\n",
    "\n",
    "set Xtr, Xts, ytr, yts\n",
    "--\n"
   ]
  },
  {
   "cell_type": "code",
   "execution_count": 6,
   "metadata": {},
   "outputs": [
    {
     "name": "stdout",
     "output_type": "stream",
     "text": [
      "features X --> ntr =  28 , nts =  28 1553\n",
      "target y --> ntr =  28 , nts =  28 1553\n"
     ]
    }
   ],
   "source": [
    "y = ygrowth\n",
    "ntr = int(nyears/2)\n",
    "nts = int(nyears - ntr)\n",
    "\n",
    "# df1 = preprocessing.scale(df1)\n",
    "## y0 = preprocessing.scale(y0)\n",
    "\n",
    "Xtr = df1[:ntr]   # X = df1\n",
    "Xts = df1[ntr:]\n",
    "\n",
    "ytr = y[:ntr]\n",
    "yts = y[ntr:]\n",
    "\n",
    "ntr, nfactors = Xtr.shape\n",
    "nts, nfactors = Xts.shape\n",
    "print('features X --> ntr = ',ntr,', nts = ',nts,nfactors)\n",
    "\n",
    "ntr = ytr.shape[0]\n",
    "nts = yts.shape[0]\n",
    "\n",
    "print('target y --> ntr = ',ntr,', nts = ',nts,nfactors)\n"
   ]
  },
  {
   "cell_type": "code",
   "execution_count": 7,
   "metadata": {},
   "outputs": [
    {
     "data": {
      "image/png": "[encoded data removed]",
      "text/plain": [
       "<matplotlib.figure.Figure at 0x2934623b240>"
      ]
     },
     "metadata": {},
     "output_type": "display_data"
    }
   ],
   "source": [
    "# y00 = np.array(y0)\n",
    "t = np.array(y.index)  # NOTE: y.index = {1961 ~ 2016}\n",
    "\n",
    "plt.plot(t,y)\n",
    "plt.xlabel('year t')\n",
    "plt.ylabel('GDP growth(annual %)')\n",
    "plt.grid(True)\n"
   ]
  },
  {
   "cell_type": "markdown",
   "metadata": {
    "collapsed": true
   },
   "source": [
    "create linear model and fit the model\n",
    "--"
   ]
  },
  {
   "cell_type": "code",
   "execution_count": 8,
   "metadata": {},
   "outputs": [
    {
     "data": {
      "text/plain": [
       "LinearRegression(copy_X=True, fit_intercept=True, n_jobs=1, normalize=False)"
      ]
     },
     "execution_count": 8,
     "metadata": {},
     "output_type": "execute_result"
    }
   ],
   "source": [
    "from sklearn import linear_model\n",
    "\n",
    "regr = linear_model.LinearRegression()\n",
    "regr.fit(Xtr,ytr)  # the beta coefficients obtained  y = AB + w , from Xtr,ytr: 1961~1987 data\n"
   ]
  },
  {
   "cell_type": "code",
   "execution_count": 9,
   "metadata": {},
   "outputs": [
    {
     "data": {
      "image/png": "[encoded data removed]",
      "text/plain": [
       "<matplotlib.figure.Figure at 0x29340663940>"
      ]
     },
     "metadata": {},
     "output_type": "display_data"
    }
   ],
   "source": [
    "yts_pred = regr.predict(Xts)  # Xtr,ytr: 1961~1987; Xts,yts: 1988~2016\n",
    "t = np.array(y.index[:ntr])  # t = np.linspace(1988,2016,nts) \n",
    "\n",
    "plt.plot(t,yts, label='ytest')\n",
    "plt.plot(t,yts_pred,label='ytest_pred')\n",
    "plt.legend(bbox_to_anchor=(1.05,1),loc = 2,borderaxespad=0.)\n",
    "plt.xlabel('t')\n",
    "plt.ylabel('y_data')\n",
    "plt.grid(True)\n"
   ]
  },
  {
   "cell_type": "markdown",
   "metadata": {},
   "source": [
    "Look into the weighting value and see the results.\n",
    "--"
   ]
  },
  {
   "cell_type": "code",
   "execution_count": 10,
   "metadata": {},
   "outputs": [
    {
     "name": "stdout",
     "output_type": "stream",
     "text": [
      "w.shape =  (1553,)\n",
      "argmax w =  0\n",
      "weighting max =  38182591.0462\n",
      "\n",
      " --> The coefficient weighted the most is:  2005 PPP conversion factor, GDP (LCU per international $)\n"
     ]
    },
    {
     "data": {
      "text/plain": [
       "<Container object of 3 artists>"
      ]
     },
     "execution_count": 10,
     "metadata": {},
     "output_type": "execute_result"
    },
    {
     "data": {
      "image/png": "[encoded data removed]",
      "text/plain": [
       "<matplotlib.figure.Figure at 0x293461e1f60>"
      ]
     },
     "metadata": {},
     "output_type": "display_data"
    }
   ],
   "source": [
    "w = regr.coef_\n",
    "w = w.T\n",
    "print('w.shape = ',w.shape)\n",
    "print('argmax w = ',np.argmax(w))\n",
    "print('weighting max = ',w[np.argmax(w)])\n",
    "print('\\n --> The coefficient weighted the most is: ', IndicatorName[np.argmax(w)])\n",
    "plt.stem(w)\n",
    "\n",
    "# yts_pred"
   ]
  },
  {
   "cell_type": "code",
   "execution_count": 11,
   "metadata": {},
   "outputs": [
    {
     "name": "stdout",
     "output_type": "stream",
     "text": [
      "RSS_train =  5.59190757523e+17 \n",
      "Rsq_train =  -5.59190757523e+17\n"
     ]
    },
    {
     "data": {
      "image/png": "[encoded data removed]",
      "text/plain": [
       "<matplotlib.figure.Figure at 0x2934840f7b8>"
      ]
     },
     "metadata": {},
     "output_type": "display_data"
    }
   ],
   "source": [
    "RSS_train = np.mean((yts_pred-yts)**2)/(np.std(yts)**2)\n",
    "Rsq_train = 1-RSS_train\n",
    "print('RSS_train = ',RSS_train,'\\nRsq_train = ',Rsq_train)\n",
    "\n",
    "plt.scatter(yts,yts_pred)\n",
    "plt.plot([-1,1],[-1,1],'r')\n",
    "plt.xlabel('Actual')\n",
    "plt.ylabel('Predicted')\n",
    "plt.grid()\n"
   ]
  },
  {
   "cell_type": "markdown",
   "metadata": {},
   "source": [
    "The result is bad!\n",
    "--\n",
    "\n",
    "So, linear model can not perform well in this case."
   ]
  },
  {
   "cell_type": "markdown",
   "metadata": {
    "collapsed": true
   },
   "source": [
    "# @Logistic Regression\n",
    "\n",
    "\n",
    "Idea:\n",
    "----------------------------\n",
    "\n",
    "-Binary classification:\n",
    "--\n",
    "y is GDP growth\n",
    "\n",
    "@ drop or grow\n",
    "\n",
    "yname = ['drop','grow']  \n",
    "\n",
    "ylabel = {0,1}\n",
    "\n",
    "\n",
    "-Multi-class classification:\n",
    "--\n",
    "\n",
    "(1) y is GDP of each year\n",
    "\n",
    "@ set threshold: GDP value-> low, medium, high; grow or drop\n",
    "\n",
    "yname = ['GDPlow_grow', 'GDPlow_drop', 'GDPmedium_grow', 'GDPmedium_drop', 'GDPhigh_grow', 'GDPhigh_drop']\n",
    "\n",
    "And the given labels yl = {0,1,2,3,4,5}\n",
    "\n",
    "\n",
    "(2) y is GDPgrowth of each year\n",
    "\n",
    "@ set threshold\n",
    "\n",
    "yname = ['large_drop','small_drop','small_growth','large_growth']\n",
    "\n",
    "And the given labels yl = {0,1,2,3}"
   ]
  },
  {
   "cell_type": "markdown",
   "metadata": {},
   "source": [
    "# Binary classification"
   ]
  },
  {
   "cell_type": "code",
   "execution_count": 12,
   "metadata": {},
   "outputs": [
    {
     "data": {
      "text/plain": [
       "array([ 1.,  1.,  1.,  1.,  1.,  1.,  1.,  1.,  1.,  1.,  1.,  1.,  1.,\n",
       "        0.,  0.,  1.,  1.,  1.,  1.,  0.,  1.,  0.,  1.,  1.,  1.,  1.,\n",
       "        1.,  1.,  1.,  1.,  0.,  1.,  1.,  1.,  1.,  1.,  1.,  1.,  1.,\n",
       "        1.,  0.,  1.,  1.,  1.,  1.,  1.,  1.,  0.,  0.,  1.,  1.,  1.,\n",
       "        1.,  1.,  1.,  1.])"
      ]
     },
     "execution_count": 12,
     "metadata": {},
     "output_type": "execute_result"
    }
   ],
   "source": [
    "#-------use ygrowth--> binary classification\n",
    "y = ygrowth\n",
    "ylabel = np.zeros(nyears)\n",
    "yl_binary = np.zeros(nyears)\n",
    "\n",
    "for i in range(nyears):\n",
    "    if ygrowth[i]<0: # drop\n",
    "        yl_binary[i] = 0\n",
    "    elif ygrowth[i]>0: # grow\n",
    "        yl_binary[i] = 1\n",
    "    else:\n",
    "        yl_binary[i] = 0\n",
    "        \n",
    "ylabel = yl_binary\n",
    "yname = ['drop','grow']  # 0,1\n",
    "\n",
    "ylabel\n",
    "# ygrowth"
   ]
  },
  {
   "cell_type": "markdown",
   "metadata": {},
   "source": [
    "First, try with the whole data \n",
    "-----"
   ]
  },
  {
   "cell_type": "code",
   "execution_count": 13,
   "metadata": {},
   "outputs": [
    {
     "name": "stdout",
     "output_type": "stream",
     "text": [
      "Accuracy on training data = 1.000000\n"
     ]
    }
   ],
   "source": [
    "logreg = linear_model.LogisticRegression()\n",
    "logreg.fit(X, ylabel)\n",
    "\n",
    "yhat = logreg.predict(X)\n",
    "\n",
    "A = (yhat==ylabel)\n",
    "acc = np.mean(A)\n",
    "print(\"Accuracy on training data = %f\" % acc)"
   ]
  },
  {
   "cell_type": "code",
   "execution_count": 14,
   "metadata": {},
   "outputs": [
    {
     "name": "stdout",
     "output_type": "stream",
     "text": [
      "(1553,)\n"
     ]
    },
    {
     "data": {
      "text/plain": [
       "<matplotlib.text.Text at 0x29348511a58>"
      ]
     },
     "execution_count": 14,
     "metadata": {},
     "output_type": "execute_result"
    },
    {
     "data": {
      "image/png": "[encoded data removed]",
      "text/plain": [
       "<matplotlib.figure.Figure at 0x29348465ba8>"
      ]
     },
     "metadata": {},
     "output_type": "display_data"
    }
   ],
   "source": [
    "w = logreg.coef_\n",
    "r,c = w.shape\n",
    "\n",
    "w = np.reshape(w,r*c,1)  # or w = w.ravel()\n",
    "print(w.shape)\n",
    "\n",
    "plt.stem(w)\n",
    "plt.ylabel('weighting')\n",
    "plt.xlabel('factors')"
   ]
  },
  {
   "cell_type": "markdown",
   "metadata": {},
   "source": [
    "Get the predicted factor responsible for GDP growth. (1) whole data binary classification\n",
    "--"
   ]
  },
  {
   "cell_type": "code",
   "execution_count": 15,
   "metadata": {},
   "outputs": [
    {
     "name": "stdout",
     "output_type": "stream",
     "text": [
      "The 1th factor component influence on GDP is w1326 = [School enrollment, primary, private (% of total primary)]\n",
      "The 2th factor component influence on GDP is w132 = [Battle-related deaths (number of people)]\n"
     ]
    }
   ],
   "source": [
    "w = abs(w)\n",
    "Sort = np.argsort(-w)\n",
    "\n",
    "for i in range(2):\n",
    "    large = w[Sort[i]]\n",
    "    index = int(Sort[i])                   \n",
    "    print('The %dth factor component influence on GDP is w%d = [%s]' %((i+1),index ,(IndicatorName[ index ])))\n",
    "    "
   ]
  },
  {
   "cell_type": "markdown",
   "metadata": {},
   "source": [
    "Second, try cross validation with Kfold.\n",
    "---"
   ]
  },
  {
   "cell_type": "code",
   "execution_count": 16,
   "metadata": {},
   "outputs": [
    {
     "name": "stdout",
     "output_type": "stream",
     "text": [
      "Precision = 0.9333, SE=0.0454\n",
      "Recall =    0.5881, SE=0.0745\n",
      "f1 =        0.6887, SE=0.0639\n",
      "Accuracy =  0.5893, SE=0.0569\n"
     ]
    }
   ],
   "source": [
    "from sklearn.model_selection import KFold\n",
    "from sklearn.metrics import precision_recall_fscore_support\n",
    "\n",
    "nfold = 8  # funny when nfold = 2 it's like tossing a coin 50/50 chance acc=0.5; the more nfolds the worse acc...\n",
    "kf = KFold(n_splits=nfold,shuffle=True)\n",
    "\n",
    "prec = []\n",
    "rec = []\n",
    "f1 = []\n",
    "acc = []\n",
    "\n",
    "for train, test in kf.split(X):            \n",
    "    # Get training and test data\n",
    "    Xtr = X[train,:]\n",
    "    ytr = ylabel[train]\n",
    "    Xts = X[test,:]\n",
    "    yts = ylabel[test]\n",
    "    \n",
    "    \n",
    "    # Fit a model\n",
    "    logreg.fit(Xtr, ytr)\n",
    "    yhat = logreg.predict(Xts)\n",
    "\n",
    "    # Measure performance\n",
    "    preci,reci,f1i,_= precision_recall_fscore_support(yts,yhat,average='binary') \n",
    "    prec.append(preci)\n",
    "    rec.append(reci)\n",
    "    f1.append(f1i)\n",
    "    acci = np.mean(yhat == yts)\n",
    "    acc.append(acci)\n",
    "    \n",
    "# Take average values of the metrics\n",
    "precm = np.mean(prec)\n",
    "recm = np.mean(rec)\n",
    "f1m = np.mean(f1)\n",
    "accm= np.mean(acc)\n",
    "\n",
    "# Compute the standard errors\n",
    "prec_se = np.std(prec)/np.sqrt(nfold-1)\n",
    "rec_se = np.std(rec)/np.sqrt(nfold-1)\n",
    "f1_se = np.std(f1)/np.sqrt(nfold-1)\n",
    "acc_se = np.std(acc)/np.sqrt(nfold-1)\n",
    "\n",
    "print('Precision = {0:.4f}, SE={1:.4f}'.format(precm,prec_se))\n",
    "print('Recall =    {0:.4f}, SE={1:.4f}'.format(recm, rec_se))\n",
    "print('f1 =        {0:.4f}, SE={1:.4f}'.format(f1m, f1_se))\n",
    "print('Accuracy =  {0:.4f}, SE={1:.4f}'.format(accm, acc_se))"
   ]
  },
  {
   "cell_type": "code",
   "execution_count": 17,
   "metadata": {},
   "outputs": [
    {
     "name": "stdout",
     "output_type": "stream",
     "text": [
      "(1553,)\n"
     ]
    },
    {
     "data": {
      "text/plain": [
       "<matplotlib.text.Text at 0x29355eca048>"
      ]
     },
     "execution_count": 17,
     "metadata": {},
     "output_type": "execute_result"
    },
    {
     "data": {
      "image/png": "[encoded data removed]",
      "text/plain": [
       "<matplotlib.figure.Figure at 0x29355ebacf8>"
      ]
     },
     "metadata": {},
     "output_type": "display_data"
    }
   ],
   "source": [
    "wK = logreg.coef_\n",
    "r,c = wK.shape\n",
    "\n",
    "wK = np.reshape(wK,r*c,1)\n",
    "print(wK.shape)\n",
    "\n",
    "plt.stem(wK)\n",
    "plt.ylabel('weighting')\n",
    "plt.xlabel('factors')"
   ]
  },
  {
   "cell_type": "markdown",
   "metadata": {},
   "source": [
    "Get the predicted factor responsible for GDP growth.(2) Kfold binay classification\n",
    "--"
   ]
  },
  {
   "cell_type": "code",
   "execution_count": 18,
   "metadata": {},
   "outputs": [
    {
     "name": "stdout",
     "output_type": "stream",
     "text": [
      "The 1th factor component influence on GDP is w1326 = [School enrollment, primary, private (% of total primary)]\n",
      "The 2th factor component influence on GDP is w132 = [Battle-related deaths (number of people)]\n"
     ]
    }
   ],
   "source": [
    "wK = abs(wK)\n",
    "Sort = np.argsort(-wK)\n",
    "\n",
    "for i in range(2):\n",
    "    large = wK[Sort[i]]\n",
    "    index = int(Sort[i])                   \n",
    "    print('The %dth factor component influence on GDP is w%d = [%s]' %((i+1),index ,(IndicatorName[ index ])))\n",
    "    "
   ]
  },
  {
   "cell_type": "markdown",
   "metadata": {
    "collapsed": true
   },
   "source": [
    "The result is a little different.\n",
    "\n",
    "But the most critical factor remain unchanged. i.e.--> w1326"
   ]
  },
  {
   "cell_type": "markdown",
   "metadata": {},
   "source": [
    "# Multi-class classification (1): yl = yGDP\n",
    "yname = ['low_grow','low_drop','medium_grow','medium_drop','high_grow','high_drop']  \n",
    "\n",
    "y = {0,1,2,3,4,5}"
   ]
  },
  {
   "cell_type": "code",
   "execution_count": 19,
   "metadata": {},
   "outputs": [
    {
     "name": "stdout",
     "output_type": "stream",
     "text": [
      "y11min =  563300000000.0 , y11max =  18569100000000.0 , d =  6001933333333.333\n",
      "thresholds =  6565233333333.333 ,  12567166666666.666\n",
      "ylabel.shape =  (56,)\n"
     ]
    },
    {
     "data": {
      "text/plain": [
       "array([ 0.,  0.,  0.,  0.,  0.,  0.,  0.,  0.,  0.,  0.,  0.,  0.,  0.,\n",
       "        1.,  1.,  0.,  0.,  0.,  0.,  1.,  0.,  1.,  0.,  0.,  0.,  0.,\n",
       "        0.,  0.,  0.,  0.,  1.,  0.,  2.,  2.,  2.,  2.,  2.,  2.,  2.,\n",
       "        2.,  3.,  2.,  2.,  2.,  4.,  4.,  4.,  5.,  5.,  4.,  4.,  4.,\n",
       "        4.,  4.,  4.,  4.])"
      ]
     },
     "execution_count": 19,
     "metadata": {},
     "output_type": "execute_result"
    }
   ],
   "source": [
    "yl = yGDP  # --> muti-class classification\n",
    "\n",
    "ymax = np.max(yl)\n",
    "ymin = np.min(yl)\n",
    "d = (ymax-ymin)/3\n",
    "print('y11min = ',ymin,', y11max = ',ymax,', d = ',d)\n",
    "\n",
    "# thresholds\n",
    "ylow = ymin \n",
    "ymed = ylow + d\n",
    "yhigh = ylow + 2*d\n",
    "print('thresholds = ',ymed,', ',yhigh)\n",
    "\n",
    "\n",
    "ylabel = np.zeros(nyears)\n",
    "yl_GDP = np.zeros(nyears)\n",
    "\n",
    "for i in range(nyears):\n",
    "    if abs(yl[i])<ymed and ygrowth[i]>=0: # l.g\n",
    "        yl_GDP[i] = 0\n",
    "    elif yGDP[i]<ymed and ygrowth[i]<0: # l.d\n",
    "        yl_GDP[i] = 1\n",
    "    elif yGDP[i]>=ymed and yGDP[i]<yhigh and ygrowth[i]>=0: # m.g\n",
    "        yl_GDP[i] = 2\n",
    "    elif yGDP[i]>=ymed and yGDP[i]<yhigh and ygrowth[i]<0:  #m.d\n",
    "        yl_GDP[i] = 3\n",
    "    elif yGDP[i]>=yhigh and ygrowth[i]>=0: #h.g\n",
    "        yl_GDP[i] = 4\n",
    "    elif yGDP[i]>=yhigh and ygrowth[i]<0: #h.d\n",
    "        yl_GDP[i] = 5\n",
    "\n",
    "ylabel = yl_GDP\n",
    "        \n",
    "yname = ['GDPlow_grow', 'GDPlow_drop', 'GDPmedium_grow', 'GDPmedium_drop', 'GDPhigh_grow', 'GDPhigh_drop']  # 0,1,2,3,4,5\n",
    "\n",
    "print('ylabel.shape = ',ylabel.shape)\n",
    "\n",
    "ylabel"
   ]
  },
  {
   "cell_type": "markdown",
   "metadata": {},
   "source": [
    "First, try on all data.\n",
    "--"
   ]
  },
  {
   "cell_type": "code",
   "execution_count": 20,
   "metadata": {},
   "outputs": [
    {
     "data": {
      "text/plain": [
       "LogisticRegression(C=1.0, class_weight=None, dual=False, fit_intercept=True,\n",
       "          intercept_scaling=1, max_iter=100, multi_class='ovr', n_jobs=1,\n",
       "          penalty='l2', random_state=None, solver='liblinear', tol=0.0001,\n",
       "          verbose=0, warm_start=False)"
      ]
     },
     "execution_count": 20,
     "metadata": {},
     "output_type": "execute_result"
    }
   ],
   "source": [
    "logreg1 = linear_model.LogisticRegression()\n",
    "logreg1.fit(X, ylabel)  # X = df, preprocessed data\n"
   ]
  },
  {
   "cell_type": "code",
   "execution_count": 21,
   "metadata": {},
   "outputs": [
    {
     "name": "stdout",
     "output_type": "stream",
     "text": [
      "Accuracy on training data = 1.000000\n"
     ]
    }
   ],
   "source": [
    "yhat = logreg1.predict(X)\n",
    "A = (yhat==ylabel)\n",
    "acc = np.mean(A)\n",
    "print(\"Accuracy on training data = %f\" % acc)"
   ]
  },
  {
   "cell_type": "code",
   "execution_count": 22,
   "metadata": {},
   "outputs": [
    {
     "name": "stdout",
     "output_type": "stream",
     "text": [
      "w1.shape =  (6, 1553)\n"
     ]
    },
    {
     "data": {
      "text/plain": [
       "<matplotlib.text.Text at 0x29357b6f208>"
      ]
     },
     "execution_count": 22,
     "metadata": {},
     "output_type": "execute_result"
    },
    {
     "data": {
      "image/png": "[encoded data removed]",
      "text/plain": [
       "<matplotlib.figure.Figure at 0x29357b7fc18>"
      ]
     },
     "metadata": {},
     "output_type": "display_data"
    }
   ],
   "source": [
    "w1 = logreg1.coef_\n",
    "print('w1.shape = ',w1.shape)  # nlabels*nfactors = 6 * 1553\n",
    "\n",
    "plt.stem(w1[0,:])\n",
    "plt.ylabel('weighting class y=0')\n",
    "plt.xlabel('factors')"
   ]
  },
  {
   "cell_type": "markdown",
   "metadata": {},
   "source": [
    "Get the predicted factor responsible for GDP growth.(3) whole data multi-class yl = GDP\n",
    "--"
   ]
  },
  {
   "cell_type": "code",
   "execution_count": 23,
   "metadata": {},
   "outputs": [
    {
     "name": "stdout",
     "output_type": "stream",
     "text": [
      "For class y=0: GDPlow_grow\n",
      "The 1th largest factor influence on GDP is w1326 = [School enrollment, primary, private (% of total primary)]\n",
      "The 2th largest factor influence on GDP is w1343 = [Secondary education, pupils]\n",
      "For class y=1: GDPlow_drop\n",
      "The 1th largest factor influence on GDP is w1326 = [School enrollment, primary, private (% of total primary)]\n",
      "The 2th largest factor influence on GDP is w1341 = [Secondary education, general pupils]\n",
      "For class y=2: GDPmedium_grow\n",
      "The 1th largest factor influence on GDP is w132 = [Battle-related deaths (number of people)]\n",
      "The 2th largest factor influence on GDP is w246 = [Completeness of infant death reporting (% of reported infant deaths to estimated infant deaths)]\n",
      "For class y=3: GDPmedium_drop\n",
      "The 1th largest factor influence on GDP is w132 = [Battle-related deaths (number of people)]\n",
      "The 2th largest factor influence on GDP is w1353 = [Secure Internet servers (per 1 million people)]\n",
      "For class y=4: GDPhigh_grow\n",
      "The 1th largest factor influence on GDP is w363 = [Droughts, floods, extreme temperatures (% of population, average 1990-2009)]\n",
      "The 2th largest factor influence on GDP is w1543 = [Wholesale price index (2010 = 100)]\n",
      "For class y=5: GDPhigh_drop\n",
      "The 1th largest factor influence on GDP is w363 = [Droughts, floods, extreme temperatures (% of population, average 1990-2009)]\n",
      "The 2th largest factor influence on GDP is w705 = [Internally displaced persons, new displacement associated with disasters (number of cases)]\n"
     ]
    }
   ],
   "source": [
    "for k in range(6):\n",
    "    print('For class y=%d:' %k, yname[k] )\n",
    "    Sort = np.argsort(-abs(w1[k,:]))\n",
    "    for i in range(2):\n",
    "        large = w1[k,:][Sort[i]]\n",
    "        index = int(Sort[i])                   \n",
    "        print('The %dth largest factor influence on GDP is w%d = [%s]' %((i+1),index ,(IndicatorName[ index ])))\n"
   ]
  },
  {
   "cell_type": "markdown",
   "metadata": {},
   "source": [
    "Second, try Kfold cross-validation.\n",
    "--"
   ]
  },
  {
   "cell_type": "code",
   "execution_count": 24,
   "metadata": {},
   "outputs": [
    {
     "name": "stdout",
     "output_type": "stream",
     "text": [
      "Accuracy =  0.5500, SE=0.0543\n",
      "Errpr rate = 0.450000, SE = 0.054263\n"
     ]
    }
   ],
   "source": [
    "from sklearn.metrics import confusion_matrix\n",
    "from sklearn.model_selection import KFold\n",
    "from sklearn.metrics import precision_recall_fscore_support\n",
    "\n",
    "nfold = 10  # funny when nfold = 2 it's like tossing a coin 50/50 chance acc=0.5; the more nfolds the worse acc...\n",
    "kf = KFold(n_splits=nfold,shuffle=True)\n",
    "\n",
    "acc = []\n",
    "err_rate = []\n",
    "\n",
    "for train, test in kf.split(X):            \n",
    "    # Get training and test data\n",
    "    Xtr = X[train,:]\n",
    "    ytr = ylabel[train]\n",
    "    Xts = X[test,:]\n",
    "    yts = ylabel[test]\n",
    "    \n",
    "    \n",
    "    # Fit a model\n",
    "    logreg1.fit(Xtr, ytr)\n",
    "    yhat = logreg1.predict(Xts)\n",
    "\n",
    "    # Measure performance\n",
    "    acci = np.mean(yhat == yts)\n",
    "    acc.append(acci)\n",
    "    err_ratei = np.mean(yhat != yts)\n",
    "    err_rate.append(err_ratei)\n",
    "\n",
    "accm= np.mean(acc)\n",
    "acc_se = np.std(acc)/np.sqrt(nfold-1)\n",
    "print('Accuracy =  {0:.4f}, SE={1:.4f}'.format(accm, acc_se))\n",
    "\n",
    "err_mean = np.mean(err_rate)\n",
    "err_se = np.std(err_rate)/np.sqrt(nfold-1)\n",
    "print('Errpr rate = %f, SE = %f'%(err_mean,err_se))\n"
   ]
  },
  {
   "cell_type": "code",
   "execution_count": 25,
   "metadata": {},
   "outputs": [
    {
     "name": "stdout",
     "output_type": "stream",
     "text": [
      "w2.shape =  (6, 1553)\n"
     ]
    },
    {
     "data": {
      "text/plain": [
       "<matplotlib.text.Text at 0x29359c77320>"
      ]
     },
     "execution_count": 25,
     "metadata": {},
     "output_type": "execute_result"
    },
    {
     "data": {
      "image/png": "[encoded data removed]",
      "text/plain": [
       "<matplotlib.figure.Figure at 0x29359c65160>"
      ]
     },
     "metadata": {},
     "output_type": "display_data"
    }
   ],
   "source": [
    "w2 = logreg1.coef_\n",
    "print('w2.shape = ',w2.shape)  # nlabels*nfactors = 6 * 1553\n",
    "\n",
    "plt.stem(w2[0,:])\n",
    "plt.ylabel('weighting')\n",
    "plt.xlabel('factors')"
   ]
  },
  {
   "cell_type": "markdown",
   "metadata": {
    "collapsed": true
   },
   "source": [
    "Get the predicted factor responsible for GDP growth.(4) Kfold Multi-class yl = GDP\n",
    "--"
   ]
  },
  {
   "cell_type": "code",
   "execution_count": 26,
   "metadata": {},
   "outputs": [
    {
     "name": "stdout",
     "output_type": "stream",
     "text": [
      "For class y=0: GDPlow_grow\n",
      "The 1th largest factor influence on GDP is w1326 = [School enrollment, primary, private (% of total primary)]\n",
      "The 2th largest factor influence on GDP is w1343 = [Secondary education, pupils]\n",
      "For class y=1: GDPlow_drop\n",
      "The 1th largest factor influence on GDP is w1326 = [School enrollment, primary, private (% of total primary)]\n",
      "The 2th largest factor influence on GDP is w1341 = [Secondary education, general pupils]\n",
      "For class y=2: GDPmedium_grow\n",
      "The 1th largest factor influence on GDP is w132 = [Battle-related deaths (number of people)]\n",
      "The 2th largest factor influence on GDP is w246 = [Completeness of infant death reporting (% of reported infant deaths to estimated infant deaths)]\n",
      "For class y=3: GDPmedium_drop\n",
      "The 1th largest factor influence on GDP is w132 = [Battle-related deaths (number of people)]\n",
      "The 2th largest factor influence on GDP is w791 = [Manufactures imports (% of merchandise imports)]\n",
      "For class y=4: GDPhigh_grow\n",
      "The 1th largest factor influence on GDP is w64 = [Agricultural irrigated land (% of total agricultural land)]\n",
      "The 2th largest factor influence on GDP is w1366 = [SF6 gas emissions (thousand metric tons of CO2 equivalent)]\n",
      "For class y=5: GDPhigh_drop\n",
      "The 1th largest factor influence on GDP is w791 = [Manufactures imports (% of merchandise imports)]\n",
      "The 2th largest factor influence on GDP is w986 = [Ores and metals exports (% of merchandise exports)]\n"
     ]
    }
   ],
   "source": [
    "for k in range(6):\n",
    "    print('For class y=%d:' %k, yname[k])\n",
    "    Sort = np.argsort(-abs(w2[k,:]))\n",
    "    for i in range(2):\n",
    "        large = w2[k,:][Sort[i]]\n",
    "        index = int(Sort[i])                   \n",
    "        print('The %dth largest factor influence on GDP is w%d = [%s]' %((i+1),index ,(IndicatorName[ index ])))\n"
   ]
  },
  {
   "cell_type": "markdown",
   "metadata": {
    "collapsed": true
   },
   "source": [
    "L1-Regularization\n",
    "--"
   ]
  },
  {
   "cell_type": "code",
   "execution_count": 27,
   "metadata": {},
   "outputs": [
    {
     "name": "stdout",
     "output_type": "stream",
     "text": [
      "Fold 0\n",
      "Fold 1\n",
      "Fold 2\n",
      "Fold 3\n",
      "Fold 4\n",
      "Fold 5\n",
      "Fold 6\n",
      "Fold 7\n",
      "Fold 8\n",
      "Fold 9\n"
     ]
    }
   ],
   "source": [
    "# penalty valuew to test\n",
    "npen = 30\n",
    "C_test = np.logspace(-2,3,npen)\n",
    "\n",
    "nfold = 10\n",
    "kf = KFold(n_splits=nfold, shuffle = True)\n",
    "err_rate = np.zeros((npen,nfold))\n",
    "\n",
    "logregL1 = linear_model.LogisticRegression(penalty='l1',warm_start=True)\n",
    "\n",
    "for ifold, Ind in enumerate(kf.split(X)):\n",
    "\n",
    "    Itr, Its = Ind\n",
    "    Xtr = X[Itr,:]\n",
    "    ytr = ylabel[Itr]\n",
    "    Xts = X[Its,:]\n",
    "    yts = ylabel[Its]\n",
    "    \n",
    "    # loop over penalty levels\n",
    "    for ipen, c in enumerate(C_test):\n",
    "        \n",
    "        logregL1.C = c\n",
    "        logregL1.fit(Xtr, ytr)\n",
    "        \n",
    "        yhat = logregL1.predict(Xts)\n",
    "        err_rate[ipen,ifold] = np.mean(yhat != yts)\n",
    "        \n",
    "    print('Fold %d'%ifold)\n"
   ]
  },
  {
   "cell_type": "code",
   "execution_count": 28,
   "metadata": {
    "scrolled": true
   },
   "outputs": [
    {
     "name": "stdout",
     "output_type": "stream",
     "text": [
      "The minimum test error rate = 0.203333, SE = 0.056317\n"
     ]
    },
    {
     "data": {
      "image/png": "[encoded data removed]",
      "text/plain": [
       "<matplotlib.figure.Figure at 0x2935b92c710>"
      ]
     },
     "metadata": {},
     "output_type": "display_data"
    }
   ],
   "source": [
    "err_mean = np.mean(err_rate, axis = 1)\n",
    "err_se = np.std(err_rate,axis=1)/np.sqrt(nfold-1)\n",
    "\n",
    "plt.errorbar(np.log10(C_test), err_mean, marker = 'o',yerr = err_se)\n",
    "# plt.ylim([0,0.02])\n",
    "plt.grid()\n",
    "plt.xlabel('log10(C)')\n",
    "plt.ylabel('Error rate')\n",
    "\n",
    "imin = np.argmin(err_mean)\n",
    "print('The minimum test error rate = %f, SE = %f'%(err_mean[imin], err_se[imin]))"
   ]
  },
  {
   "cell_type": "code",
   "execution_count": 29,
   "metadata": {},
   "outputs": [
    {
     "name": "stdout",
     "output_type": "stream",
     "text": [
      "optimal C = 0.072790\n"
     ]
    }
   ],
   "source": [
    "# one standard err rule\n",
    "err_tgt = err_mean[imin] + err_se[imin]  \n",
    "iopt = np.where(err_mean < err_tgt)[0][0]\n",
    "C_opt = C_test[iopt]\n",
    "\n",
    "print('optimal C = %f' % C_opt)"
   ]
  },
  {
   "cell_type": "markdown",
   "metadata": {
    "collapsed": true
   },
   "source": [
    "After the optimal C applied, the weight matrix is much more sparse than the original one. \n",
    "\n",
    "Hence the roles of particular factors are more clearly visible."
   ]
  },
  {
   "cell_type": "code",
   "execution_count": 30,
   "metadata": {},
   "outputs": [
    {
     "data": {
      "text/plain": [
       "<matplotlib.text.Text at 0x2935d2a1828>"
      ]
     },
     "execution_count": 30,
     "metadata": {},
     "output_type": "execute_result"
    },
    {
     "data": {
      "image/png": "[encoded data removed]",
      "text/plain": [
       "<matplotlib.figure.Figure at 0x2934846b278>"
      ]
     },
     "metadata": {},
     "output_type": "display_data"
    }
   ],
   "source": [
    "logreg = linear_model.LogisticRegression(C = C_opt,penalty='l1')\n",
    "logreg.C = C_opt\n",
    "logreg.fit(X,ylabel)\n",
    "\n",
    "w_l1 = logreg.coef_\n",
    "\n",
    "plt.figure(figsize = (10,10))\n",
    "plt.subplot(2,1,1)\n",
    "plt.stem(w2[0,:])\n",
    "plt.title('No regularization')\n",
    "\n",
    "plt.subplot(2,1,2)\n",
    "plt.stem(w_l1[0,:])\n",
    "plt.title('L1-regularization')\n",
    "# w_l1[0,:]"
   ]
  },
  {
   "cell_type": "markdown",
   "metadata": {},
   "source": [
    "Cross-validation again with optimized C value.\n",
    "--"
   ]
  },
  {
   "cell_type": "code",
   "execution_count": 31,
   "metadata": {},
   "outputs": [
    {
     "name": "stdout",
     "output_type": "stream",
     "text": [
      "Accuracy =  0.7867, SE=0.0323\n",
      "Errpr rate = 0.213333, SE = 0.032280\n"
     ]
    }
   ],
   "source": [
    "from sklearn.metrics import confusion_matrix\n",
    "from sklearn.model_selection import KFold\n",
    "from sklearn.metrics import precision_recall_fscore_support\n",
    "\n",
    "nfold = 10  # funny when nfold = 2 it's like tossing a coin 50/50 chance acc=0.5; the more nfolds the worse acc...\n",
    "kf = KFold(n_splits=nfold,shuffle=True)\n",
    "logreg1 = linear_model.LogisticRegression(C = C_opt,penalty='l1')\n",
    "logreg1.C = C_opt\n",
    "\n",
    "acc = []\n",
    "err_rate = []\n",
    "\n",
    "for train, test in kf.split(X):            \n",
    "    # Get training and test data\n",
    "    Xtr = X[train,:]\n",
    "    ytr = ylabel[train]\n",
    "    Xts = X[test,:]\n",
    "    yts = ylabel[test]\n",
    "    \n",
    "    \n",
    "    # Fit a model\n",
    "    logreg1.fit(Xtr, ytr)\n",
    "    yhat = logreg1.predict(Xts)\n",
    "\n",
    "    # Measure performance\n",
    "    acci = np.mean(yhat == yts)\n",
    "    acc.append(acci)\n",
    "    err_ratei = np.mean(yhat != yts)\n",
    "    err_rate.append(err_ratei)\n",
    "\n",
    "accm= np.mean(acc)\n",
    "acc_se = np.std(acc)/np.sqrt(nfold-1)\n",
    "print('Accuracy =  {0:.4f}, SE={1:.4f}'.format(accm, acc_se))\n",
    "\n",
    "err_mean = np.mean(err_rate)\n",
    "err_se = np.std(err_rate)/np.sqrt(nfold-1)\n",
    "print('Errpr rate = %f, SE = %f'%(err_mean,err_se))\n"
   ]
  },
  {
   "cell_type": "markdown",
   "metadata": {},
   "source": [
    "Accuracy rise slightly."
   ]
  },
  {
   "cell_type": "code",
   "execution_count": 32,
   "metadata": {},
   "outputs": [
    {
     "data": {
      "image/png": "[encoded data removed]",
      "text/plain": [
       "<matplotlib.figure.Figure at 0x2935f4b18d0>"
      ]
     },
     "metadata": {},
     "output_type": "display_data"
    },
    {
     "data": {
      "image/png": "[encoded data removed]",
      "text/plain": [
       "<matplotlib.figure.Figure at 0x29360d489b0>"
      ]
     },
     "metadata": {},
     "output_type": "display_data"
    },
    {
     "data": {
      "image/png": "[encoded data removed]",
      "text/plain": [
       "<matplotlib.figure.Figure at 0x293626adba8>"
      ]
     },
     "metadata": {},
     "output_type": "display_data"
    },
    {
     "data": {
      "image/png": "[encoded data removed]",
      "text/plain": [
       "<matplotlib.figure.Figure at 0x29364016da0>"
      ]
     },
     "metadata": {},
     "output_type": "display_data"
    },
    {
     "data": {
      "image/png": "[encoded data removed]",
      "text/plain": [
       "<matplotlib.figure.Figure at 0x2936597ffd0>"
      ]
     },
     "metadata": {},
     "output_type": "display_data"
    },
    {
     "data": {
      "image/png": "[encoded data removed]",
      "text/plain": [
       "<matplotlib.figure.Figure at 0x293672f61d0>"
      ]
     },
     "metadata": {},
     "output_type": "display_data"
    }
   ],
   "source": [
    "for i in range(6):\n",
    "    plt.figure(figsize = (10,10))\n",
    "    plt.subplot(6,1,i+1)\n",
    "    plt.stem(w_l1[i,:])\n",
    "    plt.title('L1-regularization class y=%d' %i)\n"
   ]
  },
  {
   "cell_type": "markdown",
   "metadata": {},
   "source": [
    "Get the predicted factor responsible for GDP growth.(5) Kfold L1-Regularization Multi-class yl=GDP\n",
    "--"
   ]
  },
  {
   "cell_type": "code",
   "execution_count": 33,
   "metadata": {},
   "outputs": [
    {
     "name": "stdout",
     "output_type": "stream",
     "text": [
      "- For class y=0: GDPlow_grow\n",
      "The 1th largest factor influence on GDP is w637 = [Immunization, HepB3 (% of one-year-old children)] 0.484904141654\n",
      "The 2th largest factor influence on GDP is w1513 = [Unemployment, total (% of total labor force) (modeled ILO estimate)] 0.106821255555\n",
      "- For class y=1: GDPlow_drop\n",
      "Can not find a particular coefficient responsible for this class.\n",
      "Can not find a particular coefficient responsible for this class.\n",
      "- For class y=2: GDPmedium_grow\n",
      "The 1th largest factor influence on GDP is w534 = [GHG net emissions/removals by LUCF (Mt of CO2 equivalent)] 0.0737030714583\n",
      "Can not find a particular coefficient responsible for this class.\n",
      "- For class y=3: GDPmedium_drop\n",
      "Can not find a particular coefficient responsible for this class.\n",
      "Can not find a particular coefficient responsible for this class.\n",
      "- For class y=4: GDPhigh_grow\n",
      "The 1th largest factor influence on GDP is w1464 = [Total tax rate (% of commercial profits)] -0.198129552324\n",
      "The 2th largest factor influence on GDP is w1413 = [Tax payments (number)] -0.134662277635\n",
      "- For class y=5: GDPhigh_drop\n",
      "Can not find a particular coefficient responsible for this class.\n",
      "Can not find a particular coefficient responsible for this class.\n"
     ]
    }
   ],
   "source": [
    "for k in range(6):\n",
    "    print('- For class y=%d:' %k, yname[k])\n",
    "    Sort = np.argsort(-abs(w_l1[k,:]))\n",
    "    \n",
    "    for i in range(2):\n",
    "        large = w_l1[k,:][Sort[i]]\n",
    "        if large ==0:\n",
    "            print('Can not find a particular coefficient responsible for this class.')\n",
    "        else:\n",
    "            index = int(Sort[i])                   \n",
    "            print('The %dth largest factor influence on GDP is w%d = [%s]' %((i+1),index ,(IndicatorName[ index ])),large)    \n"
   ]
  },
  {
   "cell_type": "markdown",
   "metadata": {},
   "source": [
    "---> Some classes can't find the coefficient responsible for classifying the class."
   ]
  },
  {
   "cell_type": "markdown",
   "metadata": {
    "collapsed": true
   },
   "source": [
    "# Multi-class classification (2): yl = yGDPgrowth\n",
    "\n",
    "yname = ['high_drop','low_drop','low_grow','high_grow']  \n",
    "\n",
    "y = {0,1,2,3}"
   ]
  },
  {
   "cell_type": "code",
   "execution_count": 34,
   "metadata": {},
   "outputs": [
    {
     "name": "stdout",
     "output_type": "stream",
     "text": [
      "y0min =  -3.624124115 , y0max =  6.334427895 , dp =  3.1672139475 , dn =  1.8120620575\n",
      "thresholds =  -3.624124115 ,  -1.8120620575 ,  0 ,  3.1672139475 ,  6.334427895\n",
      "ylabel.shape =  (56,)\n"
     ]
    },
    {
     "data": {
      "text/plain": [
       "array([ 2.,  3.,  2.,  3.,  3.,  3.,  2.,  3.,  2.,  2.,  2.,  3.,  3.,\n",
       "        1.,  1.,  3.,  3.,  3.,  2.,  1.,  2.,  0.,  3.,  1.,  3.,  2.,\n",
       "        2.,  3.,  2.,  2.,  1.,  2.,  2.,  2.,  2.,  2.,  3.,  3.,  3.,\n",
       "        2.,  1.,  2.,  2.,  2.,  2.,  2.,  2.,  1.,  0.,  2.,  2.,  2.,\n",
       "        2.,  2.,  2.,  2.])"
      ]
     },
     "execution_count": 34,
     "metadata": {},
     "output_type": "execute_result"
    }
   ],
   "source": [
    "y0 = ygrowth  # --> muti-class classification\n",
    "\n",
    "ymax = np.max(y0)\n",
    "ymin = np.min(y0)\n",
    "\n",
    "dp = ymax/2\n",
    "dn = abs(ymin)/2\n",
    "\n",
    "print('y0min = ',ymin,', y0max = ',ymax,', dp = ',dp,', dn = ',dn)\n",
    "\n",
    "# thresholds\n",
    "ydhigh = ymin\n",
    "ydlow = ymin + dn\n",
    "yglow = 0\n",
    "yghigh = 0 + dp\n",
    "print('thresholds = ',ydhigh,', ',ydlow,', ',yglow,', ',yghigh,', ', ymax)\n",
    "\n",
    "ylabel = np.ones(nyears)\n",
    "yl_growth = np.ones(nyears)\n",
    "\n",
    "\n",
    "for i in range(nyears):\n",
    "    if (y0[i]>=ydhigh) and (y0[i]<ydlow): # h.d\n",
    "        yl_growth[i] = 0\n",
    "    elif y0[i]>=ydlow and y0[i]<0: # l.d\n",
    "        yl_growth[i] = 1\n",
    "    elif y0[i]>=0 and y0[i]<yghigh: # l.g\n",
    "        yl_growth[i] = 2\n",
    "    elif y0[i]>=yghigh and y0[i]<ymax:  #h.g\n",
    "        yl_growth[i] = 3\n",
    "\n",
    "ylabel = yl_growth\n",
    "\n",
    "yname = ['high_drop','low_drop','low_grow','high_grow']  # 0,1,2,3\n",
    "\n",
    "print('ylabel.shape = ',ylabel.shape)\n",
    "\n",
    "ylabel\n"
   ]
  },
  {
   "cell_type": "markdown",
   "metadata": {},
   "source": [
    "(1) Try on all data.\n",
    "--"
   ]
  },
  {
   "cell_type": "code",
   "execution_count": 35,
   "metadata": {},
   "outputs": [
    {
     "name": "stdout",
     "output_type": "stream",
     "text": [
      "Accuracy on training data = 1.000000\n"
     ]
    }
   ],
   "source": [
    "logreg1 = linear_model.LogisticRegression()\n",
    "logreg1.fit(X, ylabel)  # X = df, preprocessed data\n",
    "\n",
    "yhat = logreg1.predict(X)\n",
    "A = (yhat==ylabel)\n",
    "acc = np.mean(A)\n",
    "print(\"Accuracy on training data = %f\" % acc)"
   ]
  },
  {
   "cell_type": "code",
   "execution_count": 36,
   "metadata": {},
   "outputs": [
    {
     "data": {
      "text/plain": [
       "<matplotlib.text.Text at 0x2935f4b1198>"
      ]
     },
     "execution_count": 36,
     "metadata": {},
     "output_type": "execute_result"
    },
    {
     "data": {
      "image/png": "[encoded data removed]",
      "text/plain": [
       "<matplotlib.figure.Figure at 0x2936a249c50>"
      ]
     },
     "metadata": {},
     "output_type": "display_data"
    }
   ],
   "source": [
    "w1 = logreg1.coef_\n",
    "\n",
    "plt.stem(w1[0,:])\n",
    "plt.ylabel('weighting')\n",
    "plt.xlabel('factors')"
   ]
  },
  {
   "cell_type": "markdown",
   "metadata": {},
   "source": [
    "Get the predicted factor responsible for GDP growth.(6) all data Multi-class yl = ygrowth\n",
    "--"
   ]
  },
  {
   "cell_type": "code",
   "execution_count": 37,
   "metadata": {},
   "outputs": [
    {
     "name": "stdout",
     "output_type": "stream",
     "text": [
      "---For class y=0: high_drop\n",
      "The 1th largest factor influence on GDP is w363 = [Droughts, floods, extreme temperatures (% of population, average 1990-2009)] -0.36658152203\n",
      "The 2th largest factor influence on GDP is w1542 = [Water productivity, total (constant 2010 US$ GDP per cubic meter of total freshwater withdrawal)] -0.215799537494\n",
      "---For class y=1: low_drop\n",
      "The 1th largest factor influence on GDP is w1032 = [Physicians (per 1,000 people)] 0.365730803079\n",
      "The 2th largest factor influence on GDP is w132 = [Battle-related deaths (number of people)] -0.361942688808\n",
      "---For class y=2: low_grow\n",
      "The 1th largest factor influence on GDP is w374 = [Educational attainment, at least completed post-secondary, population 25+, total (%) (cumulative)] -0.603482906041\n",
      "The 2th largest factor influence on GDP is w372 = [Educational attainment, at least completed post-secondary, population 25+, female (%) (cumulative)] -0.587148989281\n",
      "---For class y=3: high_grow\n",
      "The 1th largest factor influence on GDP is w1032 = [Physicians (per 1,000 people)] -0.564476014771\n",
      "The 2th largest factor influence on GDP is w1002 = [Patent applications, nonresidents] 0.425033863574\n"
     ]
    }
   ],
   "source": [
    "for k in range(4):\n",
    "    print('---For class y=%d:' %k,yname[k])\n",
    "    Sort = np.argsort(-abs(w1[k,:]))\n",
    "    \n",
    "    for i in range(2):\n",
    "        large = w1[k,:][Sort[i]]\n",
    "        index = int(Sort[i])                   \n",
    "        print('The %dth largest factor influence on GDP is w%d = [%s]' %((i+1),index ,(IndicatorName[ index ])),large)    \n",
    "#     print('\\n')"
   ]
  },
  {
   "cell_type": "markdown",
   "metadata": {},
   "source": [
    "(2) Try Kfold cross-validation\n",
    "--"
   ]
  },
  {
   "cell_type": "code",
   "execution_count": 38,
   "metadata": {},
   "outputs": [
    {
     "name": "stdout",
     "output_type": "stream",
     "text": [
      "Accuracy =  0.1567, SE=0.0584\n",
      "Errpr rate = 0.843333, SE = 0.058384\n"
     ]
    }
   ],
   "source": [
    "from sklearn.metrics import confusion_matrix\n",
    "from sklearn.model_selection import KFold\n",
    "from sklearn.metrics import precision_recall_fscore_support\n",
    "\n",
    "nfold = 10  # funny when nfold = 2 it's like tossing a coin 50/50 chance acc=0.5; the more nfolds the worse acc...\n",
    "kf = KFold(n_splits=nfold,shuffle=True)\n",
    "\n",
    "acc = []\n",
    "err_rate = []\n",
    "\n",
    "for train, test in kf.split(X):            \n",
    "    # Get training and test data\n",
    "    Xtr = X[train,:]\n",
    "    ytr = ylabel[train]\n",
    "    Xts = X[test,:]\n",
    "    yts = ylabel[test]\n",
    "    \n",
    "    \n",
    "    # Fit a model\n",
    "    logreg1.fit(Xtr, ytr)\n",
    "    yhat = logreg.predict(Xts)\n",
    "\n",
    "    # Measure performance\n",
    "    acci = np.mean(yhat == yts)\n",
    "    acc.append(acci)\n",
    "    err_ratei = np.mean(yhat != yts)\n",
    "    err_rate.append(err_ratei)\n",
    "\n",
    "accm= np.mean(acc)\n",
    "acc_se = np.std(acc)/np.sqrt(nfold-1)\n",
    "print('Accuracy =  {0:.4f}, SE={1:.4f}'.format(accm, acc_se))\n",
    "\n",
    "\n",
    "err_mean = np.mean(err_rate)\n",
    "err_se = np.std(err_rate)/np.sqrt(nfold-1)\n",
    "print('Errpr rate = %f, SE = %f'%(err_mean,err_se))\n"
   ]
  },
  {
   "cell_type": "code",
   "execution_count": 39,
   "metadata": {},
   "outputs": [
    {
     "data": {
      "text/plain": [
       "<matplotlib.text.Text at 0x2936bd1dc50>"
      ]
     },
     "execution_count": 39,
     "metadata": {},
     "output_type": "execute_result"
    },
    {
     "data": {
      "image/png": "[encoded data removed]",
      "text/plain": [
       "<matplotlib.figure.Figure at 0x2936bd410f0>"
      ]
     },
     "metadata": {},
     "output_type": "display_data"
    }
   ],
   "source": [
    "w2 = logreg1.coef_\n",
    "\n",
    "plt.stem(w2[0,:])\n",
    "plt.ylabel('weighting')\n",
    "plt.xlabel('factors')"
   ]
  },
  {
   "cell_type": "markdown",
   "metadata": {},
   "source": [
    "Get the predicted factor responsible for GDP growth.(7) Kfold Multi-class yl = ygrowth\n",
    "--"
   ]
  },
  {
   "cell_type": "code",
   "execution_count": 40,
   "metadata": {},
   "outputs": [
    {
     "name": "stdout",
     "output_type": "stream",
     "text": [
      "---For class y=0: high_drop\n",
      "The 1th largest factor influence on GDP is w783 = [Low-birthweight babies (% of births)] 0.369864151132\n",
      "The 2th largest factor influence on GDP is w363 = [Droughts, floods, extreme temperatures (% of population, average 1990-2009)] -0.280965795467\n",
      "---For class y=1: low_drop\n",
      "The 1th largest factor influence on GDP is w1032 = [Physicians (per 1,000 people)] 0.432136268116\n",
      "The 2th largest factor influence on GDP is w363 = [Droughts, floods, extreme temperatures (% of population, average 1990-2009)] 0.331642463425\n",
      "---For class y=2: low_grow\n",
      "The 1th largest factor influence on GDP is w1002 = [Patent applications, nonresidents] -0.475305487952\n",
      "The 2th largest factor influence on GDP is w1003 = [Patent applications, residents] -0.475305487952\n",
      "---For class y=3: high_grow\n",
      "The 1th largest factor influence on GDP is w1032 = [Physicians (per 1,000 people)] -0.494686176781\n",
      "The 2th largest factor influence on GDP is w1002 = [Patent applications, nonresidents] 0.442699545086\n"
     ]
    }
   ],
   "source": [
    "for k in range(4):\n",
    "    print('---For class y=%d:' %k,yname[k])\n",
    "    Sort = np.argsort(-abs(w2[k,:]))\n",
    "    for i in range(2):\n",
    "        large = w2[k,:][Sort[i]]\n",
    "        index = int(Sort[i])                   \n",
    "        print('The %dth largest factor influence on GDP is w%d = [%s]' %((i+1),index ,(IndicatorName[ index ])),large)\n",
    "#     print('\\n')"
   ]
  },
  {
   "cell_type": "markdown",
   "metadata": {},
   "source": [
    "(3) L1-regularization\n",
    "--"
   ]
  },
  {
   "cell_type": "code",
   "execution_count": 41,
   "metadata": {},
   "outputs": [
    {
     "name": "stdout",
     "output_type": "stream",
     "text": [
      "Fold 0\n",
      "Fold 1\n",
      "Fold 2\n",
      "Fold 3\n",
      "Fold 4\n",
      "Fold 5\n",
      "Fold 6\n",
      "Fold 7\n",
      "Fold 8\n",
      "Fold 9\n"
     ]
    }
   ],
   "source": [
    "# penalty valuew to test\n",
    "npen = 30\n",
    "C_test = np.logspace(-2,3,npen)\n",
    "\n",
    "nfold = 10\n",
    "kf = KFold(n_splits=nfold, shuffle = True)\n",
    "err_rate = np.zeros((npen,nfold))\n",
    "\n",
    "logregL1 = linear_model.LogisticRegression(penalty='l1',warm_start=True)\n",
    "\n",
    "for ifold, Ind in enumerate(kf.split(X)):\n",
    "\n",
    "    Itr, Its = Ind\n",
    "    Xtr = X[Itr,:]\n",
    "    ytr = ylabel[Itr]\n",
    "    Xts = X[Its,:]\n",
    "    yts = ylabel[Its]\n",
    "    \n",
    "    # loop over penalty levels\n",
    "    for ipen, c in enumerate(C_test):\n",
    "        \n",
    "        logregL1.C = c\n",
    "        logregL1.fit(Xtr, ytr)\n",
    "        \n",
    "        yhat = logregL1.predict(Xts)\n",
    "        err_rate[ipen,ifold] = np.mean(yhat != yts)\n",
    "        \n",
    "    print('Fold %d'%ifold)"
   ]
  },
  {
   "cell_type": "code",
   "execution_count": 42,
   "metadata": {},
   "outputs": [
    {
     "name": "stdout",
     "output_type": "stream",
     "text": [
      "The minimum test error rate = 0.423333, SE = 0.072869\n"
     ]
    },
    {
     "data": {
      "image/png": "[encoded data removed]",
      "text/plain": [
       "<matplotlib.figure.Figure at 0x2935f79b908>"
      ]
     },
     "metadata": {},
     "output_type": "display_data"
    }
   ],
   "source": [
    "err_mean = np.mean(err_rate, axis = 1)\n",
    "err_se = np.std(err_rate,axis=1)/np.sqrt(nfold-1)\n",
    "\n",
    "plt.errorbar(np.log10(C_test), err_mean, marker = 'o',yerr = err_se)\n",
    "plt.grid()\n",
    "plt.xlabel('log10(C)')\n",
    "plt.ylabel('Error rate')\n",
    "\n",
    "imin = np.argmin(err_mean)\n",
    "print('The minimum test error rate = %f, SE = %f'%(err_mean[imin], err_se[imin]))"
   ]
  },
  {
   "cell_type": "code",
   "execution_count": 43,
   "metadata": {},
   "outputs": [
    {
     "name": "stdout",
     "output_type": "stream",
     "text": [
      "optimal C = 0.161026\n"
     ]
    }
   ],
   "source": [
    "err_tgt = err_mean[imin] + err_se[imin]\n",
    "iopt = np.where(err_mean < err_tgt)[0][0]\n",
    "C_opt = C_test[iopt]\n",
    "\n",
    "print('optimal C = %f' % C_opt)"
   ]
  },
  {
   "cell_type": "markdown",
   "metadata": {},
   "source": [
    "Apply C_opt"
   ]
  },
  {
   "cell_type": "code",
   "execution_count": 44,
   "metadata": {},
   "outputs": [
    {
     "data": {
      "text/plain": [
       "<matplotlib.text.Text at 0x293612c2630>"
      ]
     },
     "execution_count": 44,
     "metadata": {},
     "output_type": "execute_result"
    },
    {
     "data": {
      "image/png": "[encoded data removed]",
      "text/plain": [
       "<matplotlib.figure.Figure at 0x2935b95d898>"
      ]
     },
     "metadata": {},
     "output_type": "display_data"
    }
   ],
   "source": [
    "logreg = linear_model.LogisticRegression(C = C_opt,penalty='l1')\n",
    "logreg.C = C_opt\n",
    "logreg.fit(X,ylabel)\n",
    "\n",
    "w_l1 = logreg.coef_\n",
    "\n",
    "plt.figure(figsize = (10,10))\n",
    "plt.subplot(2,1,1)\n",
    "plt.stem(w2[0,:])\n",
    "plt.title('No regularization')\n",
    "\n",
    "plt.subplot(2,1,2)\n",
    "plt.stem(w_l1[0,:])\n",
    "plt.title('L1-regularization')\n"
   ]
  },
  {
   "cell_type": "markdown",
   "metadata": {},
   "source": [
    "Cross validate again with C_opt.\n",
    "--"
   ]
  },
  {
   "cell_type": "code",
   "execution_count": 45,
   "metadata": {},
   "outputs": [
    {
     "name": "stdout",
     "output_type": "stream",
     "text": [
      "Accuracy =  0.5767, SE=0.0680\n",
      "Errpr rate = 0.423333, SE = 0.067960\n"
     ]
    }
   ],
   "source": [
    "from sklearn.metrics import confusion_matrix\n",
    "from sklearn.model_selection import KFold\n",
    "from sklearn.metrics import precision_recall_fscore_support\n",
    "\n",
    "nfold = 10  # funny when nfold = 2 it's like tossing a coin 50/50 chance acc=0.5; the more nfolds the worse acc...\n",
    "kf = KFold(n_splits=nfold,shuffle=True)\n",
    "logreg1 = linear_model.LogisticRegression(C = C_opt,penalty='l1')\n",
    "logreg1.C = C_opt\n",
    "\n",
    "acc = []\n",
    "err_rate = []\n",
    "\n",
    "for train, test in kf.split(X):            \n",
    "    # Get training and test data\n",
    "    Xtr = X[train,:]\n",
    "    ytr = ylabel[train]\n",
    "    Xts = X[test,:]\n",
    "    yts = ylabel[test]\n",
    "    \n",
    "    \n",
    "    # Fit a model\n",
    "    logreg1.fit(Xtr, ytr)\n",
    "    yhat = logreg1.predict(Xts)\n",
    "\n",
    "    # Measure performance\n",
    "    acci = np.mean(yhat == yts)\n",
    "    acc.append(acci)\n",
    "    err_ratei = np.mean(yhat != yts)\n",
    "    err_rate.append(err_ratei)\n",
    "\n",
    "accm= np.mean(acc)\n",
    "acc_se = np.std(acc)/np.sqrt(nfold-1)\n",
    "print('Accuracy =  {0:.4f}, SE={1:.4f}'.format(accm, acc_se))\n",
    "\n",
    "err_mean = np.mean(err_rate)\n",
    "err_se = np.std(err_rate)/np.sqrt(nfold-1)\n",
    "print('Errpr rate = %f, SE = %f'%(err_mean,err_se))\n"
   ]
  },
  {
   "cell_type": "markdown",
   "metadata": {},
   "source": []
  },
  {
   "cell_type": "code",
   "execution_count": 46,
   "metadata": {},
   "outputs": [
    {
     "data": {
      "image/png": "[encoded data removed]",
      "text/plain": [
       "<matplotlib.figure.Figure at 0x293634f4518>"
      ]
     },
     "metadata": {},
     "output_type": "display_data"
    },
    {
     "data": {
      "image/png": "[encoded data removed]",
      "text/plain": [
       "<matplotlib.figure.Figure at 0x29364e4d6a0>"
      ]
     },
     "metadata": {},
     "output_type": "display_data"
    },
    {
     "data": {
      "image/png": "[encoded data removed]",
      "text/plain": [
       "<matplotlib.figure.Figure at 0x293668b6898>"
      ]
     },
     "metadata": {},
     "output_type": "display_data"
    },
    {
     "data": {
      "image/png": "[encoded data removed]",
      "text/plain": [
       "<matplotlib.figure.Figure at 0x293682d6eb8>"
      ]
     },
     "metadata": {},
     "output_type": "display_data"
    }
   ],
   "source": [
    "for i in range(4):\n",
    "    plt.figure(figsize = (10,10))\n",
    "    plt.subplot(6,1,i+1)\n",
    "    plt.stem(w_l1[i,:])\n",
    "    plt.title('L1-regularization class y=%d' %i)"
   ]
  },
  {
   "cell_type": "markdown",
   "metadata": {},
   "source": [
    "Get the predicted factor responsible for GDP growth.(8) Kfold L1-regularization Multi-class yl = ygrowth\n",
    "--"
   ]
  },
  {
   "cell_type": "code",
   "execution_count": 47,
   "metadata": {},
   "outputs": [
    {
     "name": "stdout",
     "output_type": "stream",
     "text": [
      "---For class y=0: high_drop\n",
      "The 1th largest factor influence on GDP is w363 = [Droughts, floods, extreme temperatures (% of population, average 1990-2009)] -0.116458107166\n",
      "Can not find a particular coefficient responsible for this class.\n",
      "---For class y=1: low_drop\n",
      "The 1th largest factor influence on GDP is w132 = [Battle-related deaths (number of people)] -0.0367887676462\n",
      "Can not find a particular coefficient responsible for this class.\n",
      "---For class y=2: low_grow\n",
      "The 1th largest factor influence on GDP is w198 = [Children out of school, female (% of female primary school age)] -0.178219998898\n",
      "The 2th largest factor influence on GDP is w1035 = [PM2.5 air pollution, population exposed to levels exceeding WHO guideline value (% of total)] -0.119482811697\n",
      "---For class y=3: high_grow\n",
      "The 1th largest factor influence on GDP is w998 = [Over-age students, primary (% of enrollment)] 0.239999496926\n",
      "The 2th largest factor influence on GDP is w197 = [Children out of school (% of primary school age)] 0.212127030964\n"
     ]
    }
   ],
   "source": [
    "for k in range(4):\n",
    "    print('---For class y=%d:' %k, yname[k])\n",
    "    Sort = np.argsort(-abs(w_l1[k,:]))\n",
    "    \n",
    "    for i in range(2):\n",
    "        large = w_l1[k,:][Sort[i]]\n",
    "        if large == 0:\n",
    "            print('Can not find a particular coefficient responsible for this class.')\n",
    "        else:\n",
    "            index = int(Sort[i])                   \n",
    "            print('The %dth largest factor influence on GDP is w%d = [%s]' %((i+1),index ,(IndicatorName[ index ])),large)\n",
    " #     print('\\n')\n"
   ]
  },
  {
   "cell_type": "markdown",
   "metadata": {},
   "source": [
    "---> The result accuracy is around 0.57.\n",
    "--"
   ]
  },
  {
   "cell_type": "markdown",
   "metadata": {},
   "source": [
    "# @Nonlinear Optimization\n",
    "\n",
    "  - gradient descent: w_k+1 = w+k - alpha*grad_f(w_k)    ; NOTE: find local minima only.\n",
    "--\n",
    "Given objective function f(w), find parameters w = argmin[f(w)]\n",
    "\n",
    "To minimize the Loss function J(w)\n",
    "\n",
    "- local minima grad_J = 0 \n"
   ]
  },
  {
   "cell_type": "code",
   "execution_count": 48,
   "metadata": {},
   "outputs": [
    {
     "data": {
      "text/plain": [
       "array([ 1.,  1.,  1.,  1.,  1.,  1.,  1.,  1.,  1.,  1.,  1.,  1.,  1.,\n",
       "        0.,  0.,  1.,  1.,  1.,  1.,  0.,  1.,  0.,  1.,  1.,  1.,  1.,\n",
       "        1.,  1.,  1.,  1.,  0.,  1.,  1.,  1.,  1.,  1.,  1.,  1.,  1.,\n",
       "        1.,  0.,  1.,  1.,  1.,  1.,  1.,  1.,  0.,  0.,  1.,  1.,  1.,\n",
       "        1.,  1.,  1.,  1.])"
      ]
     },
     "execution_count": 48,
     "metadata": {},
     "output_type": "execute_result"
    }
   ],
   "source": [
    "X = df1\n",
    "ylabel = yl_binary   # switch to try: yl_binary  yl_GDP  yl_growth\n",
    "ylabel"
   ]
  },
  {
   "cell_type": "code",
   "execution_count": 49,
   "metadata": {
    "collapsed": true
   },
   "outputs": [],
   "source": [
    "ntr = int(nyears/2)\n",
    "nts = int(nyears - ntr)\n",
    "\n",
    "Xtr = X[:ntr,:]  # training\n",
    "ytr = ylabel[:ntr]\n",
    "Xts = X[ntr:,:]  # test\n",
    "yts = ylabel[ntr:]"
   ]
  },
  {
   "cell_type": "markdown",
   "metadata": {
    "collapsed": true
   },
   "source": [
    "## Computing the Gradient and Loss Function\n",
    "\n",
    "Recall that training a logistic function means finding a weight vector `w` for the classification rule:\n",
    "\n",
    "    P(y=1|x,w) = 1/(1+\\exp(-z)), z = w[0] + w[1]*x[0] + ... + w[k]x[k-1]\n",
    "    \n",
    "From the class notes in logistic regression, we saw that the weight vector can be found by minimizing  the negative log likelihood.  The negative log likelihood is called the *loss* function.  For the logistic regression problem, the loss function simplifies to:\n",
    "\n",
    "\n",
    "    f(w) = \\sum_i -y[i]z[i] + ln(1+exp(z[i])),  z[i] = w[0] + w[1]X[i,0] + ... + w[k]X[i,k-1].\n",
    "    \n",
    "To run a numerical optimizer in python, we need to implement a python function that returns `f(w)` and its gradient.  \n",
    "\n",
    "Since the function `f(w)` also depends parameters `X` and `y`, it is easier to implement the function as a method in a class that contains the parameters.  In the code below, we create a class `LogisticFun` where the constructor takes the parameters `X` and `y`.  Then, the class method `feval` takes a variable `w` and computes the loss and its gradient.\n",
    "\n",
    "Or use lambda calculus."
   ]
  },
  {
   "cell_type": "code",
   "execution_count": 50,
   "metadata": {
    "collapsed": true
   },
   "outputs": [],
   "source": [
    "class LogisticFun(object):\n",
    "    def __init__(self,X,y):\n",
    "        \"\"\"\n",
    "        Class for computes the loss and gradient for a logistic regression problem.\n",
    "        \n",
    "        The constructor takes the data matrix `X` and response vector y for training.\n",
    "        \"\"\"\n",
    "        self.X = X\n",
    "        self.y = y\n",
    "        n = X.shape[0]\n",
    "        self.A = np.column_stack((np.ones(n,), X))\n",
    "\n",
    "    def feval(self,w):\n",
    "        \"\"\"\n",
    "        Compute the loss and gradient for a given weight vector\n",
    "        \"\"\"\n",
    "        # The loss is the binary cross entropy\n",
    "        z = self.A.dot(w)\n",
    "        py = 1/(1+np.exp(-z))\n",
    "        f = np.sum((1-self.y)*z - np.log(py))\n",
    "        \n",
    "        # Gradient\n",
    "        df_dz = py-self.y\n",
    "        fgrad = self.A.T.dot(df_dz)\n",
    "        return f, fgrad"
   ]
  },
  {
   "cell_type": "code",
   "execution_count": 51,
   "metadata": {
    "collapsed": true
   },
   "outputs": [],
   "source": [
    "log_fun = LogisticFun(Xtr,ytr)"
   ]
  },
  {
   "cell_type": "markdown",
   "metadata": {},
   "source": [
    "Verify this gradient calculator \n",
    "--\n",
    "By first order approximation,see if the gradient is calculate correctly."
   ]
  },
  {
   "cell_type": "code",
   "execution_count": 52,
   "metadata": {},
   "outputs": [
    {
     "name": "stdout",
     "output_type": "stream",
     "text": [
      "Actual f1-f0    =  -4.2370e-05\n",
      "Predicted f1-f0 =  -4.2370e-05\n"
     ]
    }
   ],
   "source": [
    "# test the gradient is correct\n",
    "# Take a random initial point\n",
    "p = X.shape[1]+1\n",
    "w0 = np.random.randn(p)\n",
    "\n",
    "# Perturb the point\n",
    "step = 1e-6\n",
    "w1 = w0 + step*np.random.randn(p)\n",
    "\n",
    "# Measure the function and gradient at w0 and w1\n",
    "f0, fgrad0 = log_fun.feval(w0)\n",
    "f1, fgrad1 = log_fun.feval(w1)\n",
    "\n",
    "# Predict the amount the function should have changed based on the gradient\n",
    "df_est = fgrad0.dot(w1-w0)\n",
    "\n",
    "# Print the two values to see if they are close\n",
    "print(\"Actual f1-f0    = %12.4e\" % (f1-f0))\n",
    "print(\"Predicted f1-f0 = %12.4e\" % df_est)"
   ]
  },
  {
   "cell_type": "markdown",
   "metadata": {
    "collapsed": true
   },
   "source": [
    "Function of value parameters\n",
    "--\n",
    "Return the loss function(i.e. the negative log likelihood for logistic regression) f(w) and its gradient. "
   ]
  },
  {
   "cell_type": "code",
   "execution_count": 53,
   "metadata": {
    "collapsed": true
   },
   "outputs": [],
   "source": [
    "# Create a function with all the parameters\n",
    "def feval_param(w,X,y):\n",
    "    \"\"\"\n",
    "    Compute the loss and gradient given w,X,y\n",
    "    \"\"\"\n",
    "    # Construct transform matrix\n",
    "    n = X.shape[0]\n",
    "    A = np.column_stack((np.ones(n,), X))\n",
    "\n",
    "    # The loss is the binary cross entropy\n",
    "    z = A.dot(w)\n",
    "    py = 1/(1+np.exp(-z))\n",
    "    f = np.sum((1-y)*z - np.log(py))\n",
    "\n",
    "    # Gradient\n",
    "    df_dz = py-y\n",
    "    fgrad = A.T.dot(df_dz)\n",
    "    return f, fgrad\n",
    "\n",
    "# Create a function with X,y fixed\n",
    "feval = lambda w: feval_param(w,Xtr,ytr)\n",
    "\n",
    "# You can now pass a parameter like w0\n",
    "f0, fgrad0 = feval(w0)"
   ]
  },
  {
   "cell_type": "markdown",
   "metadata": {
    "collapsed": true
   },
   "source": [
    "Define Gradient descent optimizer\n",
    "---"
   ]
  },
  {
   "cell_type": "code",
   "execution_count": 54,
   "metadata": {
    "collapsed": true
   },
   "outputs": [],
   "source": [
    "def grad_opt_simp(feval, winit, lr=1e-3,nit=1000):\n",
    "    \"\"\"\n",
    "    Simple gradient descent optimization\n",
    "    \n",
    "    feval:  A function that returns f, fgrad, the objective function and its gradient\n",
    "    winit:  Initial estimate\n",
    "    lr:     learning rate\n",
    "    nit:    Number of iterations\n",
    "    \"\"\"\n",
    "    # Initialize\n",
    "    w0 = winit\n",
    "    \n",
    "    # Create history dictionary for tracking progress per iteration.\n",
    "    # This isn't necessary if you just want the final answer, but it \n",
    "    # is useful for debugging\n",
    "    hist = {'w': [], 'f': []}\n",
    "    \n",
    "    # Loop over iterations\n",
    "    for it in range(nit):\n",
    "\n",
    "        # Evaluate the function and gradient\n",
    "        f0, fgrad0 = feval(w0)\n",
    "\n",
    "        # Take a gradient step\n",
    "        w0 = w0 - lr*fgrad0\n",
    "        \n",
    "         # Save history\n",
    "        hist['f'].append(f0)\n",
    "        hist['w'].append(w0)\n",
    "\n",
    "    # Convert to numpy arrays\n",
    "    for elem in ('f', 'w'):\n",
    "        hist[elem] = np.array(hist[elem])\n",
    "    return w0, f0, hist"
   ]
  },
  {
   "cell_type": "markdown",
   "metadata": {},
   "source": [
    "Run gradient descent\n",
    "--"
   ]
  },
  {
   "cell_type": "code",
   "execution_count": 55,
   "metadata": {},
   "outputs": [
    {
     "data": {
      "image/png": "[encoded data removed]",
      "text/plain": [
       "<matplotlib.figure.Figure at 0x2936dd78c50>"
      ]
     },
     "metadata": {},
     "output_type": "display_data"
    }
   ],
   "source": [
    "# Initial condition\n",
    "winit = np.random.randn(p)\n",
    "\n",
    "# Parameters\n",
    "feval = log_fun.feval   # fit model log_fun with Xtr, ytr\n",
    "nit = 1000\n",
    "lr = 1e-5\n",
    "\n",
    "# Run the gradient descent\n",
    "w, f0, hist = grad_opt_simp(feval, winit, lr=lr, nit=nit)\n",
    "\n",
    "# Plot the training loss\n",
    "t = np.arange(nit)\n",
    "plt.semilogx(t, hist['f'])\n",
    "plt.ylabel('Loss')\n",
    "plt.xlabel('Iteration')\n",
    "plt.grid()\n"
   ]
  },
  {
   "cell_type": "markdown",
   "metadata": {},
   "source": [
    "measure accuracy\n",
    "--"
   ]
  },
  {
   "cell_type": "code",
   "execution_count": 56,
   "metadata": {},
   "outputs": [
    {
     "name": "stdout",
     "output_type": "stream",
     "text": [
      "Test accuracy = 0.392857\n"
     ]
    }
   ],
   "source": [
    "def predict(X,w):\n",
    "    z = X.dot(w[1:]) + w[0]\n",
    "    yhat = (z > 0)\n",
    "    return yhat\n",
    "\n",
    "yhat = predict(Xts,w)\n",
    "acc = np.mean(yhat == yts)\n",
    "print(\"Test accuracy = %f\" % acc)"
   ]
  },
  {
   "cell_type": "markdown",
   "metadata": {},
   "source": [
    "Find the component in w_min = argmin[f(w_min)] effects the result the most.\n",
    "--"
   ]
  },
  {
   "cell_type": "code",
   "execution_count": 57,
   "metadata": {},
   "outputs": [
    {
     "name": "stdout",
     "output_type": "stream",
     "text": [
      "w.shape =  (1554,) [-0.64052578 -0.46185866  1.50982043 ...,  0.2227339  -0.10230697\n",
      "  0.57592467]\n"
     ]
    },
    {
     "data": {
      "text/plain": [
       "<Container object of 3 artists>"
      ]
     },
     "execution_count": 57,
     "metadata": {},
     "output_type": "execute_result"
    },
    {
     "data": {
      "image/png": "[encoded data removed]",
      "text/plain": [
       "<matplotlib.figure.Figure at 0x2936eb92d68>"
      ]
     },
     "metadata": {},
     "output_type": "display_data"
    }
   ],
   "source": [
    "print('w.shape = ',w.shape,w)\n",
    "plt.stem(w)"
   ]
  },
  {
   "cell_type": "markdown",
   "metadata": {},
   "source": [
    "Get the predicted factor responsible for GDP growth.(9) Nonlinear gredient descent with binary classification yl = ygrowth\n",
    "--"
   ]
  },
  {
   "cell_type": "code",
   "execution_count": 58,
   "metadata": {},
   "outputs": [
    {
     "name": "stdout",
     "output_type": "stream",
     "text": [
      "The 1th largest factor influence on GDP is w570 = [Gross domestic savings (% of GDP)]\n",
      "The 2th largest factor influence on GDP is w227 = [Combustible renewables and waste (% of total energy)]\n"
     ]
    }
   ],
   "source": [
    "Sort = np.argsort(-abs(w[1:]))\n",
    "for i in range(2):\n",
    "    index = int(Sort[i])                   \n",
    "    print('The %dth largest factor influence on GDP is w%d = [%s]' %((i+1),index ,(IndicatorName[ index ])))\n",
    "        "
   ]
  },
  {
   "cell_type": "markdown",
   "metadata": {},
   "source": [
    "Effect of learning rate\n",
    "--\n",
    "try different learning rate"
   ]
  },
  {
   "cell_type": "code",
   "execution_count": 59,
   "metadata": {},
   "outputs": [
    {
     "name": "stdout",
     "output_type": "stream",
     "text": [
      "lr=    1.00e-05  Test accuracy = 0.392857\n",
      "lr=    1.00e-04  Test accuracy = 0.392857\n",
      "lr=    1.00e-03  Test accuracy = 0.428571\n"
     ]
    },
    {
     "data": {
      "text/plain": [
       "<matplotlib.text.Text at 0x29370888358>"
      ]
     },
     "execution_count": 59,
     "metadata": {},
     "output_type": "execute_result"
    },
    {
     "data": {
      "image/png": "[encoded data removed]",
      "text/plain": [
       "<matplotlib.figure.Figure at 0x293708a5198>"
      ]
     },
     "metadata": {},
     "output_type": "display_data"
    }
   ],
   "source": [
    "# Learning rate values to test\n",
    "lr_test = [1e-5,1e-4,1e-3]\n",
    "ntest = len(lr_test)\n",
    "\n",
    "# Strings for the legend\n",
    "leg_str = []\n",
    "wlr = np.zeros((3,1554))\n",
    "\n",
    "for i, lr in enumerate(lr_test):\n",
    "    # Run the optimizer\n",
    "    w, f0, hist = grad_opt_simp(feval, winit, lr=lr, nit=nit)  \n",
    "    wlr[i] = w\n",
    "    \n",
    "    # Plot the results\n",
    "    plt.semilogx(t, hist['f'])\n",
    "    leg_str.append(\"lr=%12.2e\" % lr)\n",
    "    \n",
    "    # Measure the test accuracy\n",
    "    yhat = predict(Xts,w)\n",
    "    acc = np.mean(yhat == yts)\n",
    "    print(\"lr=%12.2e  Test accuracy = %f\" % (lr, acc))\n",
    "    \n",
    "plt.grid()\n",
    "plt.legend(leg_str, loc='upper right')\n",
    "plt.ylabel('Loss')\n",
    "plt.xlabel('Iteration')"
   ]
  },
  {
   "cell_type": "markdown",
   "metadata": {},
   "source": [
    "--> If set iterration nit large enough, the accuracy will converge to around 0.45. Guess it's the best it can do for this case analysis."
   ]
  },
  {
   "cell_type": "markdown",
   "metadata": {
    "collapsed": true
   },
   "source": [
    "# @SVM Supportin Vector Machines\n",
    "\n",
    "margin = gamma/||w||\n",
    "\n",
    "set gamma = 1\n",
    "So, m = 1/ ||w||\n",
    "\n",
    "hinge loss: L(w,b) = max(0, 1-yz)\n",
    "- yz >= 1  : classified correctly\n",
    "- yz = 0~1 : margin too small (violates margin)\n",
    "- yz <= 0  : mis-classified\n",
    "\n",
    "SVM optimization:\n",
    "--\n",
    "minJ(w,b)\n",
    "J(w,b) = C*sum{Li(w,b)}+1/2*||w||^2\n",
    "\n",
    "\n",
    "- slack variable epsilon e (= max(0, 1-yz); the amount og sample i misses margin target)\n",
    "object constraint: y(z) >= 1-e \n",
    "\n",
    "- e = 0  : corredct\n",
    "- e >= 0 : sample violates margin  <----- SVs\n",
    "- e >= 1 : mis-classified\n",
    "\n",
    "classifier weight: w = sum{alphai * yi * xi}\n",
    "- alphai > 0 : xi is a SV\n",
    "- alphai = 0 : xi is not SV\n",
    "\n",
    "\n",
    "SVM kernals: http://scikit-learn.org/stable/modules/svm.html#svm-kernels\n",
    "\n",
    "- 'rbf': k = exp(-gamma*|x-x'|)\n",
    "\n",
    "\n",
    "NOTE:\n",
    "- Logistic regression focuses on maximizing the\n",
    "probability of the data. The farther the data lies from\n",
    "the separating hyperplane (on the correct side), the\n",
    "happier LR is.\n",
    "- An SVM tries to find the separating hyperplane that\n",
    "maximizes the distance of the closest points to the\n",
    "margin (the support vectors). If a point is not a\n",
    "support vector, it doesn’t really matter. \n"
   ]
  },
  {
   "cell_type": "code",
   "execution_count": 60,
   "metadata": {
    "collapsed": true
   },
   "outputs": [],
   "source": [
    "from sklearn import svm\n",
    "\n",
    "# Create a classifier: a support vector classifier\n",
    "svc = svm.SVC(probability=False, kernel='rbf', C=2.8, gamma=.0073,verbose=10)  # 'rbf':nonlinear kernal 'sigmoid' 'poly' 'linear'\n",
    "# svc = svm.SVC(probability=False, kernel='sigmoid', C=1, gamma=1,verbose=10)\n",
    "# svc = svm.SVR(C=1.0, epsilon=0.2)"
   ]
  },
  {
   "cell_type": "code",
   "execution_count": 61,
   "metadata": {},
   "outputs": [
    {
     "name": "stdout",
     "output_type": "stream",
     "text": [
      "56 [12  0 19  2  6 37  7 29 27 23 31  3 52 47 43 26 38  9 53 25 32 18 10 44 50\n",
      " 46 51 45 21 22 11 40  8 30  5 34 28 33 42 48 35  1 54 24 13 16 17 39 36 49\n",
      "  4 41 15 55 20 14] (56,)\n"
     ]
    },
    {
     "data": {
      "text/plain": [
       "array([ 1.,  1.,  1.,  1.,  1.,  1.,  1.,  1.,  1.,  1.,  1.,  1.,  1.,\n",
       "        0.,  0.,  1.,  1.,  1.,  1.,  0.,  1.,  0.,  1.,  1.,  1.,  1.,\n",
       "        1.,  1.,  1.,  1.,  0.,  1.,  1.,  1.,  1.,  1.,  1.,  1.,  1.,\n",
       "        1.,  0.,  1.,  1.,  1.,  1.,  1.,  1.,  0.,  0.,  1.,  1.,  1.,\n",
       "        1.,  1.,  1.,  1.])"
      ]
     },
     "execution_count": 61,
     "metadata": {},
     "output_type": "execute_result"
    }
   ],
   "source": [
    "X = df1\n",
    "ylabel = yl_binary   # yl_binary  yl_GDP  yl_growth\n",
    "\n",
    "# ntr = int(nyears/2)\n",
    "# nts = int(nyears - ntr)\n",
    "\n",
    "# Xtr = X[:ntr,:]  # training\n",
    "# ytr = ylabel[:ntr]\n",
    "# Xts = X[ntr:,:]  # test\n",
    "# yts = ylabel[ntr:]\n",
    "\n",
    "# ####\n",
    "nsamp = X.shape[0]\n",
    "Iperm = np.random.permutation(nsamp)  # random num in range of nsamp\n",
    "print(nsamp,Iperm,Iperm.shape)\n",
    "\n",
    "\n",
    "Xtr = X[Iperm[:ntr],:]\n",
    "ytr = ylabel[Iperm[:ntr]]\n",
    "Xts = X[Iperm[ntr:ntr+nts],:]\n",
    "yts = ylabel[Iperm[ntr:ntr+nts]]\n",
    "\n",
    "ylabel"
   ]
  },
  {
   "cell_type": "code",
   "execution_count": 62,
   "metadata": {},
   "outputs": [
    {
     "name": "stdout",
     "output_type": "stream",
     "text": [
      "[LibSVM]"
     ]
    },
    {
     "data": {
      "text/plain": [
       "SVC(C=2.8, cache_size=200, class_weight=None, coef0=0.0,\n",
       "  decision_function_shape=None, degree=3, gamma=0.0073, kernel='rbf',\n",
       "  max_iter=-1, probability=False, random_state=None, shrinking=True,\n",
       "  tol=0.001, verbose=10)"
      ]
     },
     "execution_count": 62,
     "metadata": {},
     "output_type": "execute_result"
    }
   ],
   "source": [
    "svc.fit(Xtr,ytr)"
   ]
  },
  {
   "cell_type": "code",
   "execution_count": 63,
   "metadata": {},
   "outputs": [
    {
     "name": "stdout",
     "output_type": "stream",
     "text": [
      "(28,)\n",
      "Accuaracy = 0.785714\n"
     ]
    }
   ],
   "source": [
    "yts_hat= svc.predict(Xts)\n",
    "print(yts_hat.shape)\n",
    "\n",
    "# yts_hat=np.reshape(yts_hat,(28,1))\n",
    "acc = np.mean(yts_hat == yts)\n",
    "print('Accuaracy = {0:f}'.format(acc))"
   ]
  },
  {
   "cell_type": "markdown",
   "metadata": {},
   "source": [
    "Confusion matrix: row:->redicted; columns->actual\n",
    "\n",
    "If binary classification: [(tn, fp), \n",
    "                           (fn, tp)]"
   ]
  },
  {
   "cell_type": "code",
   "execution_count": 64,
   "metadata": {},
   "outputs": [
    {
     "name": "stdout",
     "output_type": "stream",
     "text": [
      "[[ 0  6]\n",
      " [ 0 22]]\n",
      "normalized C = \n",
      " [[ 0.     0.273]\n",
      " [ 0.     1.   ]] \n",
      " (2, 2)\n",
      "yts =      [ 0.  1.  1.  0.  1.  0.  1.  1.  1.  1.  1.  0.  1.  1.  1.  1.  0.  1.\n",
      "  1.  1.  1.  1.  1.  1.  1.  1.  1.  0.] \n",
      "yts_hat =  [ 1.  1.  1.  1.  1.  1.  1.  1.  1.  1.  1.  1.  1.  1.  1.  1.  1.  1.\n",
      "  1.  1.  1.  1.  1.  1.  1.  1.  1.  1.]\n"
     ]
    },
    {
     "data": {
      "image/png": "[encoded data removed]",
      "text/plain": [
       "<matplotlib.figure.Figure at 0x2936cf888d0>"
      ]
     },
     "metadata": {},
     "output_type": "display_data"
    }
   ],
   "source": [
    "from sklearn.metrics import confusion_matrix\n",
    "C = confusion_matrix(yts,yts_hat)\n",
    "print(C)\n",
    "\n",
    "# normalize C\n",
    "Csum = np.sum(C,1)\n",
    "new_c = C/ Csum[np.newaxis,:]\n",
    "print('normalized C = \\n',np.array_str(new_c, precision=3, suppress_small=True),'\\n',new_c.shape)\n",
    "\n",
    "plt.imshow(new_c, interpolation='none')\n",
    "plt.colorbar()\n",
    "print('yts =     ',yts,'\\nyts_hat = ',yts_hat)"
   ]
  },
  {
   "cell_type": "markdown",
   "metadata": {},
   "source": [
    "Try and get the supporting vectors.\n",
    "--"
   ]
  },
  {
   "cell_type": "code",
   "execution_count": 65,
   "metadata": {},
   "outputs": [
    {
     "name": "stdout",
     "output_type": "stream",
     "text": [
      "numSV =  [ 2 24] total SVs =  26\n",
      "indexSV =  [ 2 13  0  1  3  4  5  6  7  8  9 10 12 14 15 16 17 18 20 21 22 23 24 25 26\n",
      " 27]\n"
     ]
    }
   ],
   "source": [
    "# get support vectors\n",
    "sv = svc.support_vectors_\n",
    "\n",
    "# get number of support vectors for each class\n",
    "numSV = svc.n_support_ \n",
    "totSV = sum(numSV)\n",
    "print('numSV = ',numSV,'total SVs = ',totSV)\n",
    "\n",
    "# get indices of support vectors\n",
    "indexSV = svc.support_\n",
    "print('indexSV = ',indexSV)\n"
   ]
  },
  {
   "cell_type": "code",
   "execution_count": 66,
   "metadata": {},
   "outputs": [
    {
     "data": {
      "text/plain": [
       "(56, 26)"
      ]
     },
     "execution_count": 66,
     "metadata": {},
     "output_type": "execute_result"
    }
   ],
   "source": [
    "Xsv = np.zeros((nyears,totSV))\n",
    "\n",
    "for i in range(totSV):\n",
    "    Xsv[:,i] = X[:,indexSV[i]] \n",
    "Xsv.shape"
   ]
  },
  {
   "cell_type": "markdown",
   "metadata": {},
   "source": [
    "Rerun using only SVs\n",
    "--"
   ]
  },
  {
   "cell_type": "code",
   "execution_count": 67,
   "metadata": {},
   "outputs": [
    {
     "name": "stdout",
     "output_type": "stream",
     "text": [
      "56 [31  6 37  9 33 11 40  7 25 52 27 17 41 13 45 12  8 10 30 53 36 51 18 49  4\n",
      " 24 22  2 14 29 23  3  5 55  1 16 32 44 46 34 20 26  0 15 21 48 39 54 47 42\n",
      " 35 38 43 19 50 28] (56,)\n",
      "[LibSVM](28,)\n",
      "Accuaracy = 0.821429\n",
      "[[ 0  5]\n",
      " [ 0 23]]\n",
      "normalized C = \n",
      " [[ 0.     0.217]\n",
      " [ 0.     1.   ]] \n",
      " (2, 2)\n",
      "yts =      [ 0.  1.  1.  1.  1.  1.  1.  1.  1.  1.  1.  1.  1.  1.  1.  1.  0.  0.\n",
      "  1.  1.  0.  1.  1.  1.  1.  0.  1.  1.] \n",
      "yts_hat =  [ 1.  1.  1.  1.  1.  1.  1.  1.  1.  1.  1.  1.  1.  1.  1.  1.  1.  1.\n",
      "  1.  1.  1.  1.  1.  1.  1.  1.  1.  1.]\n"
     ]
    },
    {
     "data": {
      "image/png": "[encoded data removed]",
      "text/plain": [
       "<matplotlib.figure.Figure at 0x29370a3ca58>"
      ]
     },
     "metadata": {},
     "output_type": "display_data"
    }
   ],
   "source": [
    "nsamp = Xsv.shape[0]\n",
    "Iperm = np.random.permutation(nsamp)  # random num in range of nsamp\n",
    "print(nsamp,Iperm,Iperm.shape)\n",
    "\n",
    "\n",
    "# ntr = int(nyears/2)\n",
    "# nts = int(nyears - ntr)\n",
    "# Xtr = X[:ntr,:]  # training\n",
    "# ytr = ylabel[:ntr]\n",
    "# Xts = X[ntr:,:]  # test\n",
    "# yts = ylabel[ntr:]\n",
    "### ---- or ------\n",
    "Xtr = Xsv[Iperm[:ntr],:]\n",
    "ytr = ylabel[Iperm[:ntr]]\n",
    "Xts = Xsv[Iperm[ntr:ntr+nts],:]\n",
    "yts = ylabel[Iperm[ntr:ntr+nts]]\n",
    "\n",
    "svc.fit(Xtr,ytr)\n",
    "\n",
    "yts_hat= svc.predict(Xts)\n",
    "print(yts_hat.shape)\n",
    "\n",
    "# yts_hat=np.reshape(yts_hat,(28,1))\n",
    "acc = np.mean(yts_hat == yts)\n",
    "print('Accuaracy = {0:f}'.format(acc))\n",
    "\n",
    "\n",
    "from sklearn.metrics import confusion_matrix\n",
    "C = confusion_matrix(yts,yts_hat)\n",
    "print(C)\n",
    "\n",
    "# normalize C\n",
    "Csum = np.sum(C,1)\n",
    "new_c = C/ Csum[np.newaxis,:]\n",
    "print('normalized C = \\n',np.array_str(new_c, precision=3, suppress_small=True),'\\n',new_c.shape)\n",
    "\n",
    "plt.imshow(new_c, interpolation='none')\n",
    "plt.colorbar()\n",
    "print('yts =     ',yts,'\\nyts_hat = ',yts_hat)\n"
   ]
  },
  {
   "cell_type": "markdown",
   "metadata": {},
   "source": [
    "Plot the supporting vectors with its real class label.\n",
    "--"
   ]
  },
  {
   "cell_type": "code",
   "execution_count": 68,
   "metadata": {},
   "outputs": [
    {
     "name": "stdout",
     "output_type": "stream",
     "text": [
      "num of class 0 = (8,) , num of class 1 (48,)\n",
      "Xsv[I0[0],:] class 0 =  (26,) \n",
      "X0 class 1 =  (48, 26)\n",
      "X0 class 0 =  (8,) \n",
      "X1 class 1 =  (48,)\n"
     ]
    },
    {
     "data": {
      "image/png": "[encoded data removed]",
      "text/plain": [
       "<matplotlib.figure.Figure at 0x2936df84780>"
      ]
     },
     "metadata": {},
     "output_type": "display_data"
    }
   ],
   "source": [
    "I0 = np.where(ylabel==0)[0]\n",
    "I1 = np.where(ylabel==1)[0]\n",
    "print('num of class 0 =',I0.shape,', num of class 1',I1.shape)\n",
    "print('Xsv[I0[0],:] class 0 = ',Xsv[I0[0],:].shape,'\\nX0 class 1 = ',Xsv[I1,:].shape)\n",
    "print('X0 class 0 = ',Xsv[I0,0].shape,'\\nX1 class 1 = ',Xsv[I1,1].shape)\n",
    "\n",
    "# plt.plot(X[I0,:], X[I0,:], 'rx')\n",
    "# plt.show()\n",
    "plt.plot(I1+1961,Xsv[I1,:], 'go')\n",
    "plt.plot(I0+1961,Xsv[I0,:], 'rx')\n",
    "plt.xlabel('$nyears$', fontsize=16)\n",
    "plt.ylabel('$x[.,:]$', fontsize=16)\n",
    "plt.subplots_adjust(bottom=0.2, left=0.2)\n"
   ]
  },
  {
   "cell_type": "code",
   "execution_count": null,
   "metadata": {
    "collapsed": true
   },
   "outputs": [],
   "source": []
  },
  {
   "cell_type": "markdown",
   "metadata": {},
   "source": [
    "# Conclusion:\n",
    "The more resonable method is to classify with binary label, find parameters to determine the grow or drop of GDP value.\n",
    "\n",
    "And with this the best accuracy is using SVM(acc = 0.8214)\n",
    "\n",
    "The factors to effect GDP shown more than once are \n",
    "\n",
    "-> w1326 = [School enrollment, primary, private (% of total primary)]\n",
    "\n",
    "-> w132 = [Battle-related deaths (number of people)]\n",
    "\n",
    "So, it's more likely that the reason of GDP value change related to education rate and war.\n",
    "--\n",
    "\n"
   ]
  },
  {
   "cell_type": "code",
   "execution_count": null,
   "metadata": {
    "collapsed": true
   },
   "outputs": [],
   "source": []
  }
 ],
 "metadata": {
  "kernelspec": {
   "display_name": "Python 3",
   "language": "python",
   "name": "python3"
  },
  "language_info": {
   "codemirror_mode": {
    "name": "ipython",
    "version": 3
   },
   "file_extension": ".py",
   "mimetype": "text/x-python",
   "name": "python",
   "nbconvert_exporter": "python",
   "pygments_lexer": "ipython3",
   "version": "3.6.1"
  }
 },
 "nbformat": 4,
 "nbformat_minor": 2
}
